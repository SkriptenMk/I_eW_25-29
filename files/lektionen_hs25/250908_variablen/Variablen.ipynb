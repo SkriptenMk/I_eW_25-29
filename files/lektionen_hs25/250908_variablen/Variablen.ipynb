{
  "cells": [
    {
      "cell_type": "markdown",
      "metadata": {},
      "source": [
        "## Vorbemerkungen: Python als Rechner\n",
        "\n",
        "Python verfügt über eingebaute mathematische Fähigkeiten. Es kann die\n",
        "Grundrechenarten und kennt die Hierarchie der Operationen. Sie können\n",
        "das überprüfen, in dem Sie in der folgenden Zelle die Rechnung\n",
        "$$2+3\\cdot4$$\n",
        "ausführen."
      ]
    },
    {
      "cell_type": "code",
      "execution_count": null,
      "metadata": {
        "id": "l8b2LCS8J3QC"
      },
      "outputs": [],
      "source": [
        "# hier können Sie die Rechnung ausführen"
      ]
    },
    {
      "cell_type": "markdown",
      "metadata": {
        "id": "_Kc1h4HmJ3QD"
      },
      "source": [
        "Die folgende Tabelle gibt einen Überblick über die direkt in Python\n",
        "verfügbaren mathematischen Funktionen:\n",
        "\n",
        "| Beschreibung | Befehl | Beispiel | Resultat |\n",
        "| --- | :---: | :---: | :---: |\n",
        "| Addition | `+` | 2 + 3 | 5 |\n",
        "| Subtraktion | `-` | 3 - 2 | 1 |\n",
        "| Multiplikation | `*` | 3 * 2 | 6 |\n",
        "| Division | `/` | 3 / 2 | 1.5 |\n",
        "| Potenzen | `**` | 3 ** 2 | 9 |\n",
        "| Wurzeln | `**(1/n)` | 16 ** (1/2) | 4.0 |\n",
        "| Ganzzahlige Division | `//` | 7 // 2 | 3 |\n",
        "| Modulo | `%` | 7 % 2 | 1 |"
      ]
    },
    {
      "cell_type": "markdown",
      "metadata": {
        "id": "xaVlQM3lJ3QE"
      },
      "source": [
        "## Variablen\n",
        "\n",
        "In Python sind Variablen symbolische Namen für\n",
        "gespeicherte Daten.\n",
        "Variablen verweisen dabei auf den Speicherbereich im Computer, in welchem\n",
        "die entsprechenden Daten physikalisch abgelegt sind. Aus diesem Grund\n",
        "werden Variablen gelegentlich auch als Zeiger bezeichnet. Was genau für\n",
        "Daten in diesem Speicherbereich abgelegt werden, spielt keine Rolle und\n",
        "kann während der Ausführung eines Programmes auch ändern.\n",
        "\n",
        "In Python werden Variablen Werte mit dem Gleichheitszeichen zugewiesen. Um der\n",
        "Variable $x$ den Wert $2$ zuzuweisen, ist die Eingabe `x = 2` erfoderlich.\n",
        "Die Variable muss links vom Gleichheitszeichen, der zuzuweisende Wert\n",
        "rechts davon stehen.\n",
        "\n",
        "Überprüfen Sie dies, indem Sie in der folgenden Zelle der Variabel $y$\n",
        "den Wert $3$ und der Variabel $z$ den Wert $4$ zuweisen. Anschliessend multiplizieren\n",
        "Sie die beiden Variablen miteinander."
      ]
    },
    {
      "cell_type": "code",
      "execution_count": null,
      "metadata": {
        "id": "ldDTCzJAJ3QE"
      },
      "outputs": [],
      "source": [
        "# hier die Aufgabe einfüllen"
      ]
    },
    {
      "cell_type": "markdown",
      "metadata": {
        "id": "xfYjmoZiJ3QE"
      },
      "source": [
        "Wenn Variablen neue Werte zugewiesen werden, wird die Referenz auf den\n",
        "Speicherbereich mit dem alten Wert gelöscht. Die Daten, welche ohne\n",
        "Verweis durch eine Variable im Speicher liegen, werden vom in Python\n",
        "eingebauten *Garbage Collector* im Hintergrund gelöscht und der so\n",
        "freigewordene Speicherplatz kann wieder verwendet werden.\n",
        "\n",
        "Sie können überprüfen, dass Variablen neue Werte zugewiesen werden\n",
        "können, indem Sie in der\n",
        "untenstehenden Zelle die Variabeln $y$ und $z$ addieren. Sie erhalten\n",
        "dann das Resultat $7$. Das heisst, den Variablen $y$ und $z$ sind immer\n",
        "noch die Werte $3$ und $4$ zugewiesen."
      ]
    },
    {
      "cell_type": "code",
      "execution_count": null,
      "metadata": {
        "id": "ViJDx8D5J3QF"
      },
      "outputs": [],
      "source": [
        "# addieren Sie hier y und z"
      ]
    },
    {
      "cell_type": "markdown",
      "metadata": {
        "id": "CRcElx6aJ3QF"
      },
      "source": [
        "Wenn Sie in der folgenden Zelle der Variabel $y$ den Wert $5$ zuweisen\n",
        "und anschliessend $y$ und $z$ addieren erhalten Sie als neues Resultat $9$."
      ]
    },
    {
      "cell_type": "code",
      "execution_count": null,
      "metadata": {
        "id": "0PAWrFNyJ3QF"
      },
      "outputs": [],
      "source": [
        "# weisen Sie hier y den neuen Wert zu"
      ]
    },
    {
      "cell_type": "markdown",
      "metadata": {
        "id": "8pougIyxJ3QF"
      },
      "source": [
        "Variablen können auch Resultate von Berechnungen zugewiesen werden.\n",
        "Ausserdem können Variablen ganze Wörter als Namen haben. Dies ist\n",
        "gegenüber einzelnen Buchstaben vorzuziehen, weil dann aussagekräftige Namen\n",
        "gewählt werden können. Grundsätzich sind die Namen von Variabeln frei\n",
        "wählbar. Es gibt allerdings eine Reihe von\n",
        "[reservierten Begriffen](https://realpython.com/python-variables/#reserved-words-keywords),\n",
        "welche in der Programmiersprache Python eine eigene Bedeutung haben.\n",
        "Unzulässig sind ausserdem Namen, die mit Ziffern beginnen.\n",
        "\n",
        "Für die Darstellung von Namen für Variablen hat sich in Python\n",
        "eingebürgert, Variablen klein zu schreiben und Wörter durch Underlines\n",
        "zu trennen ($this\\_is\\_a\\_valid\\_variable$).\n",
        "Diese Darstellung nennt sich *Snake Case*.\n",
        "Zudem werden Variablen meist\n",
        "mit englischen Begriffen bezeichnet.\n",
        "\n",
        "Weisen Sie in der nächsten Zelle der Variable `result` das Resultat der\n",
        "Rechnung $y + z$ zu und geben Sie das Resultat mit `print(result)` aus.\n",
        "`print()` ist eine Funktion, die Python zur Verfügung stellt. Was\n",
        "Funktionen sind, wird im nächsten Abschnitt erklärt."
      ]
    },
    {
      "cell_type": "code",
      "execution_count": null,
      "metadata": {
        "id": "lpZGMRsUJ3QF"
      },
      "outputs": [],
      "source": [
        "# weisen Sie hier der Variable result das Resultat zu"
      ]
    },
    {
      "cell_type": "markdown",
      "metadata": {
        "id": "jKDYRO8QJ3QG"
      },
      "source": [
        "## Funktionen in Python\n",
        "\n",
        "Python verfügt über viele bereits vordefinierte Funktionen. Die oben\n",
        "verwendete Funktion `print()` ist ein Beispiel dafür. Um zu demonstrieren, wie\n",
        "Funktionen in Python definiert werden, zeige ich Ihnen als Beispiel eine\n",
        "Funktion, mit der zwei Zahlen addiert werden."
      ]
    },
    {
      "cell_type": "code",
      "execution_count": null,
      "metadata": {
        "id": "YBueY-MyJ3QG"
      },
      "outputs": [],
      "source": [
        "# Definition der Funktion\n",
        "def get_sum(x, y):\n",
        "    return x + y\n",
        "\n",
        "# Aufruf der Funktion\n",
        "result = get_sum(3,4)\n",
        "# Ausgabe des Resultats des Funktionsaufrufs\n",
        "print(result)"
      ]
    },
    {
      "cell_type": "markdown",
      "metadata": {
        "id": "ZfO23aoqJ3QG"
      },
      "source": [
        "`def` ist das Schlüsselwort für die Definition einer Funktion.\n",
        "`get_sum` ist der von mir gewählte Name dieser Funktion. Für die Wahl\n",
        "des Namens einer Funktion gelten die gleichen Regeln, wie für Variablen.\n",
        "In den Klammern stehen die sogenannten Parameter, welche der Funktion\n",
        "übergeben werden, damit sie etwas damit macht. Mit dem Doppelpunkt wird\n",
        "die *Signatur* der Funktion abgeschlossen. Die *Signatur* zeigt\n",
        "idealerweise, *was*\n",
        "eine Funktion *womit* macht. Sie gibt aber keine Auskunft darüber, wie sie\n",
        "das macht.\n",
        "\n",
        "Python gruppiert Befehle, die zusammengehören, durch die gleiche Tiefe\n",
        "der Einrückung.\n",
        "Eine Einrückung hat üblicherweise die Tiefe von vier Leerzeichen.\n",
        "Im Beispiel oben gibt es nur eine eingerückte Zeile,\n",
        "weil die Funktion nur aus einem Befehl besteht. Mit `return` gibt die\n",
        "Funktion das Resultat zurück.\n",
        "\n",
        "Im Beispiel wird das Resultat der Berechnung, welche die Funktion\n",
        "ausführt der Variable `result` zugewiesen. Der Wert der Variable\n",
        "`result` wird mit `print(result)` ausgegeben."
      ]
    },
    {
      "cell_type": "markdown",
      "metadata": {
        "id": "tA38GmGXJ3QG"
      },
      "source": [
        "Definieren Sie in der folgenden Zelle eine Funktion, mit der zwei Zahlen\n",
        "multipliziert werden."
      ]
    },
    {
      "cell_type": "code",
      "execution_count": null,
      "metadata": {
        "id": "gHpez2myJ3QG"
      },
      "outputs": [],
      "source": [
        "# hier kommt Ihre Funktion hin"
      ]
    },
    {
      "cell_type": "markdown",
      "metadata": {
        "id": "o_Ra9R8GJ3QG"
      },
      "source": [
        "## Datentypen\n",
        "\n",
        "Als nächstes geht es um die Frage, auf welche Inhalte eine Variable\n",
        "zeigen kann.\n",
        "\n",
        "Im Grundsatz kann eine Variable auf beliebige Inhalte verweisen.\n",
        "\n",
        "Am einfachsten ist die Verwendung der grundlegenden Datenypen (basic\n",
        "data types), welche Python zur Verfügung stellt. Dies sind (mit ihren\n",
        "englischen Bezeichnungen):\n",
        "\n",
        "* Integer (Ganzzahl)\n",
        "* Floating-Point Number (Gleitkommazahl)\n",
        "* Complex Number (komplexe Zahl)\n",
        "* String (Zeichenkette)\n",
        "* Boolean Type (Wahrheitswert)"
      ]
    },
    {
      "cell_type": "markdown",
      "metadata": {
        "id": "x6AbKYqmJ3QH"
      },
      "source": [
        "Darüber hinaus ist es möglich, eigene Datentypen zu programmieren. Hier\n",
        "aber zuerst eine Beschreibung der grundlegenden Datentypen von Python."
      ]
    },
    {
      "cell_type": "markdown",
      "metadata": {
        "id": "__Eng7_HJ3QH"
      },
      "source": [
        "### Integer\n",
        "\n",
        "Die Bezeichnung für Integer in Python ist ein kurzes `int`.\n",
        "\n",
        "Anders als in anderen Progammiersprachen gibt es in Python theoretisch\n",
        "keine Beschränkung, wie gross ein Integer sein kann. Die einzige Grenze\n",
        "ist der Speicherplatz des auf dem der Integer gespeichert werden soll.\n",
        "\n",
        "Wenn einer Variable ein grosser Integer zugewiesen wird, kann dieser zur\n",
        "besseren Lesbarkeit auch mit einem Underline als Tausendertrennzeichen\n",
        "geschrieben werden (`100_000`).\n",
        "\n",
        "Um das Auszuprobieren, weisen Sie in der folgenden Zelle der Variable\n",
        "$a$ den Wert von einer Million und der Variable $b$ den Wert von einer\n",
        "Milliarde zu. Anschliessend addieren Sie $a$ und $b$ und weisen das\n",
        "Resultat der Variable $big\\_sum$ zu. Zum Schluss geben Sie den Wert\n",
        "von $big\\_sum$ mit der Funktion `print()` aus."
      ]
    },
    {
      "cell_type": "code",
      "execution_count": null,
      "metadata": {
        "id": "L5tU-SggJ3QH"
      },
      "outputs": [],
      "source": [
        "# hier können Sie Ihre Berechnung vornehmen"
      ]
    },
    {
      "cell_type": "markdown",
      "metadata": {
        "id": "4VCwyV66J3QH"
      },
      "source": [
        "Eingegebene Zahlen werden automatisch als Dezimalzahlen interpretiert.\n",
        "\n",
        "Integers können jedoch auch als Binär-, Oktal- oder Hexadezimalzahlen eingegeben\n",
        "werden. Die Eingabe erfordert dann allerdings ein Präfix, welches das\n",
        "Zahlensysten identifiziert. Die folgende Tabelle stellt die\n",
        "möglichen Präfixe zusammen.\n",
        "\n",
        "| Präfix | Bedeutung | Basis |\n",
        "| --- | --- | ---: |\n",
        "| `0b` (Null + Kleinbuchstabe `b`) | Binärzahl | 2 |\n",
        "| `0B` (Null + Grossbuchstabe `B`) |   | 2 |\n",
        "| `0o` (Null + Kleinbuchstabe `o`) | Oktalzahl | 8 |\n",
        "| `0O` (Null + Grossbuchstabe `O`) |   | 8 |\n",
        "| `0x` (Null + Kleinbuchstabe `x`) | Hexadezimalzahl | 16 |\n",
        "| `0X` (Null + Grossbuchstabe `X`) |   | 16 |\n",
        "\n",
        "In der folgende Zelle finden Sie ein entsprechendes Beispiel."
      ]
    },
    {
      "cell_type": "markdown",
      "metadata": {},
      "source": [
        "Python kann Integer in verschiedenen Zahlensystemen darstellen. Um das\n",
        "Zahlensystem bei der Zuweisung zu spezifizieren, verwenden Sie die\n",
        "entsprechenden Präfixe. Die folgenden Beispiele zeigen die Zuweisung der\n",
        "Zahlen 10, 8, 255 und 16 in den Zahlensystemen Dezimal, Oktal, Hexadezimal und Binär:\n",
        "\n",
        "```python\n",
        "dezimal      = 10\n",
        "oktal        = 0o10\n",
        "hexadezimal  = 0x10\n",
        "binaer       = 0b10\n",
        "```\n",
        "\n",
        "Die Anzeige der Werte der entsprechenden Variablen erfolgt grundsätzlich im\n",
        "Dezimalsystem."
      ]
    },
    {
      "cell_type": "code",
      "execution_count": null,
      "metadata": {
        "id": "Uo7qrr8AJ3QH"
      },
      "outputs": [],
      "source": [
        "b = 0b101010\n",
        "o = 0o52\n",
        "x = 0x2a\n",
        "\n",
        "print(b, o, x)"
      ]
    },
    {
      "cell_type": "markdown",
      "metadata": {
        "id": "qQlRG30XJ3QH"
      },
      "source": [
        "### Gleitkommazahl\n",
        "\n",
        "Die Bezeichnung für Gleitkommazahlen in Python ist `float`. Python\n",
        "interpretiert Zahlen mit einem Dezimalpunkt als Gleitkommazahlen.\n",
        "Optional können Zahlen mit `e` oder `E` in \"wissenschaftlicher\"\n",
        "Schreibweise eigegeben werden (1000 = 1e3 bzw. 1e-3 = 0.001).\n",
        "\n",
        "Weisen Sie in der folgenden Zelle den Variablen `million` und\n",
        "`billionth` die passenden Werte in wissenschaftlicher Schreibweise zu."
      ]
    },
    {
      "cell_type": "code",
      "execution_count": null,
      "metadata": {
        "id": "dItQkMRoJ3QI"
      },
      "outputs": [],
      "source": [
        "# hier die Werte den beiden Variablen zuweisen"
      ]
    },
    {
      "cell_type": "markdown",
      "metadata": {
        "id": "Bveqp_gkJ3QI"
      },
      "source": [
        "### Komplexe Zahlen\n",
        "\n",
        "Python kann auch mit komplexen Zahlen umgehen. Der Abschnitt zu diesem\n",
        "Thema kann wieder aufgegriffen werden, wenn Sie in Mathe die\n",
        "komplexen Zahlen besprochen haben."
      ]
    },
    {
      "cell_type": "markdown",
      "metadata": {
        "id": "dOoiVVYwJ3QI"
      },
      "source": [
        "### String\n",
        "\n",
        "Zeichenketten (String) werden von Python als `str` bezeichnet.\n",
        "\n",
        "Zeichenketten sind beliebige Zeichenfolgen. Damit Python Zeichenketten\n",
        "als solche erkennt, müssen sie durch die Verwendung von einfachen oder\n",
        "doppelten Anführungs- und Schlusszeichen als solche gekennzeichnet\n",
        "werden.\n",
        "\n",
        "`\"Ich bin eine Zeichenkette.\"` oder `'Ich bin auch eine Zeichenkette.'`\n",
        "\n",
        "Wenn man innerhalb einer Zeichenkette Anführungszeichen braucht, müssen die\n",
        "eingrenzenden Anführungszeichen von der \"anderen Sorte\" sein (`\"It's cool\n",
        "learning Python!\"` oder `'Der Lehrer sagt: \"Es ist cool Python zu\n",
        "lernen.\"'`).\n",
        "Eine andere Möglichkeit reservierte Zeichen zu verwenden ist der\n",
        "Gebrauch eines \"escape\"-Zeichens. In Python ist das der \"backslash\" (`\\`). Die\n",
        "beiden Beispielsätze von vorher hätten entsprechend auch folgendermassen\n",
        "geschrieben werden können:\n",
        "\n",
        "`'It\\'s cool learning Python!'` bzw. `\"Der Lehrer sagt: \\\"Es ist cool\n",
        "Python zu lernen.\\\"\"`\n",
        "\n",
        "Die Länge von Zeichenketten wird lediglich durch die Speicherkapazität\n",
        "des verwendeten Systems begrenzt. Zeichenketten können nicht nur sehr\n",
        "lang, sondern auch leer sein (`''`).\n",
        "\n",
        "Zeichenketten können, wie alle Datentypen, Variablen zugewiesen werden.\n",
        "Dies zeigt das folgende Beispiel."
      ]
    },
    {
      "cell_type": "code",
      "execution_count": null,
      "metadata": {
        "id": "21pkBCtOJ3QI"
      },
      "outputs": [],
      "source": [
        "standard_greeting = \"Hello World\"\n",
        "print(standard_greeting)"
      ]
    },
    {
      "cell_type": "markdown",
      "metadata": {
        "id": "r8ajyYykJ3QI"
      },
      "source": [
        "### Boolean Type\n",
        "\n",
        "Wahrheitswerte werden in Python als `bool` bezeichnet. Wahrheitswerte\n",
        "können entweder \"wahr\" oder \"falsch\" sein.\n",
        "\n",
        "```python\n",
        "wahr      = True\n",
        "falsch    = False\n",
        "```\n",
        "\n",
        "Die Ausgabe findet sich in der folgenden Zelle."
      ]
    },
    {
      "cell_type": "code",
      "execution_count": null,
      "metadata": {},
      "outputs": [],
      "source": [
        "wahr      = True\n",
        "falsch    = False\n",
        "print(wahr, falsch)"
      ]
    },
    {
      "cell_type": "markdown",
      "metadata": {},
      "source": [
        "Welche Warheitswerte sich bei Vergleichen ergeben, kann mit den\n",
        "folgenden Operatoren überprüft werden:\n",
        "\n",
        "```python\n",
        "==   # Gleichheit\n",
        "!=   # Ungleichheit\n",
        ">    # Größer als\n",
        "<    # Kleiner als\n",
        ">=   # Größer oder gleich\n",
        "<=   # Kleiner oder gleich\n",
        "```"
      ]
    },
    {
      "cell_type": "code",
      "execution_count": null,
      "metadata": {},
      "outputs": [],
      "source": [
        "# Testen Sie hier den Wahrheitswert von Vergleichen mit Zahlen"
      ]
    },
    {
      "cell_type": "markdown",
      "metadata": {},
      "source": [
        "\n",
        "Wahrheitswerte werden zur Steuerung von Programmflüssen verwendet.\n",
        "Mit einem Wahrheitswert kann zum Beispiel gesteuert werden, wie oft ein\n",
        "Programmteil wiederholt werden soll."
      ]
    },
    {
      "cell_type": "markdown",
      "metadata": {
        "id": "Za4OPXHlJ3QI"
      },
      "source": [
        "## Funktionen mit Type-Hints\n",
        "\n",
        "Zum Abschluss komme ich noch einmal auf die Definition von Funktionen\n",
        "zurück. In Python können Variablen - anders als zum Beispiel in Java -\n",
        "beliebige Datentypen zugewiesen\n",
        "werden. Wenn Variablen im Verlauf eines Programms mehrfach verwendet\n",
        "werden, können ihnen auch unterschiedliche Datentypen zugewiesen\n",
        "werden. Dies ist allerdings schlechter Programmierstil.\n",
        "\n",
        "Aus diesem Grund ist es sinnvoll, bei der Definition einer Funktion\n",
        "zu deklarieren, welche Datentypen die Parameter haben und welcher\n",
        "Datentyp der Rückgabewert hat. Dies soll mit dem Beispiel der Funktion\n",
        "`get_quotient` verdeutlicht werden."
      ]
    },
    {
      "cell_type": "code",
      "execution_count": null,
      "metadata": {
        "id": "YLL7S5KDJ3QI"
      },
      "outputs": [],
      "source": [
        "def get_quotient(x : int, y : int) -> float:\n",
        "    return x / y"
      ]
    },
    {
      "cell_type": "markdown",
      "metadata": {
        "id": "9PaZsD2OJ3QJ"
      },
      "source": [
        "Hier wird angegeben, dass die Parameter $x$ und $y$ vom Datentyp `int`\n",
        "sein sollen. Der Datentyp des Rückgabewertes wird hinter `->`\n",
        "geschrieben. Im Beispiel ist der Rückgabewert vom Typ `float`. Das ist\n",
        "so, weil die Funktion zum Beispiel $3 / 4 = 3.5$ rechnet.\n",
        "\n",
        "Aber Achtung: die Funktion arbeitet auch dann korrekt, wenn ein anderer\n",
        "als der deklarierte Datentyp übergeben wird. Voraussetzung ist\n",
        "lediglich, dass der Datentyp mit den verwendeten Operationen kompatibel\n",
        "ist. Die \"Type-Hints\" dienen lediglich der besseren Nachvollziehbarkeit,\n",
        "was die Funktion macht."
      ]
    }
  ],
  "metadata": {
    "colab": {
      "provenance": []
    },
    "kernelspec": {
      "display_name": ".venv",
      "language": "python",
      "name": "python3"
    },
    "language_info": {
      "codemirror_mode": {
        "name": "ipython",
        "version": 3
      },
      "file_extension": ".py",
      "mimetype": "text/x-python",
      "name": "python",
      "nbconvert_exporter": "python",
      "pygments_lexer": "ipython3",
      "version": "3.13.5"
    }
  },
  "nbformat": 4,
  "nbformat_minor": 0
}
