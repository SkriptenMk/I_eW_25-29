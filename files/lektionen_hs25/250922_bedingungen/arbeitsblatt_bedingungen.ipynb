{
 "cells": [
  {
   "cell_type": "markdown",
   "id": "8643fe55",
   "metadata": {},
   "source": [
    "# Programmverzweigungen (Bedingungen)"
   ]
  },
  {
   "cell_type": "markdown",
   "id": "f67cf490",
   "metadata": {},
   "source": [
    "::: {.content-visible when-format=\"html\"}\n",
    "<a target=\"_blank\" href=\"https://colab.research.google.com/github/SkriptenMk/I_eW_25-29/blob/main/files/lektionen_hs25/250922_bedingungen/arbeitsblatt_bedingungen.ipynb\">\n",
    "  <img src=\"https://colab.research.google.com/assets/colab-badge.svg\" alt=\"Open In Colab\"/>\n",
    "</a>  \n",
    ":::"
   ]
  },
  {
   "cell_type": "markdown",
   "id": "cda5ffc2",
   "metadata": {},
   "source": [
    "Es gibt Situationen, in denen es wünschenswert ist, dass ein Teil eines\n",
    "Programms nur ausgeführt wird, wenn eine bestimmte Voraussetzung erfüllt\n",
    "ist.  \n",
    "Als Beispiel dafür mag die Blume von vergangener Woche dienen. Wenn eine\n",
    "Blume gezeichnet werden soll, welche abwechslungsweise dunkelblaue und\n",
    "hellblaue Blütenblätter hat.\n",
    "\n",
    "![Beispielblume](blumenbeispiel.svg)\n",
    "\n",
    "Diese Blume wurde ebenfalls mit einer `for`-Schlaufe gezeichnet.\n",
    "Allerdings wurde abwechslungsweise ein dunkelblaues und ein hellblaues\n",
    "Blütenblatt verwendet.  \n",
    "Abwechslungsweise kann auch als wenn eine gerade Zahl kommt bzw. wenn\n",
    "eine ungerade Zahl kommt verstanden werden. Kommen beim Zählen doch\n",
    "abwechslungsweise gerade und ungerade Zahlen. Übersetzt in die\n",
    "`for i in range(12)`-Schlaufe heisst das, immer wenn der Wert in der\n",
    "Variabel `i` eine gerade Zahl ist dann soll ein dunkelblaues Blüentblatt\n",
    "verwendet werden und immer wenn der Wert der Variabel `i` eine ungerade\n",
    "Zahl ist, soll ein hellblaues Blütenblatt verwendet werden.\n",
    "\n",
    "In Python verwendet man dazu die folgende Syntax:\n",
    "\n",
    "```Python\n",
    "if BEDINGUNG:\n",
    "    ANWEISUNG(en)\n",
    "else:\n",
    "    ANWEISUNG(en)\n",
    "```\n",
    "\n",
    "Das heisst, immer wenn die `BEDINGUNG` erfüllt ist (wenn sie `wahr`)\n",
    "ist, werden die eingerückten Anweisungen ausgeführt. In allen anderen\n",
    "Fällen werden die nach `else:` eingerückten Anweisungen ausgeführt.\n",
    "\n",
    "Für die Zeichnung der Blume bedeutet das also, dass immer wenn `i` eine\n",
    "gerade Zahl ist, soll ein dunkelblaues Blütenblatt verwendet werden.\n",
    "Eine gerade Zahl ist dabei jede Zahl, die ohne Rest durch zwei Teilbar\n",
    "ist.  \n",
    "Ob dies der Fall ist, kann mit dem Modulo Operator (`%`) getestet werden\n",
    "(vgl. Abschnitt \n",
    "<a\n",
    "href=\"https://skriptenmk.github.io/I_eW_25-29/files/lektionen_hs25/250908_variablen/Variablen.html#vorbemerkungen-python-als-rechner\"\n",
    "target=\"_blank\">\n",
    "Vorbemerkungen: Python als Rechner</a>.) Eine Zahl ist ohne Rest durch\n",
    "zwei Teilbar, wenn gilt\n",
    "\n",
    "$$\n",
    "i\\ mod\\ 2 = 0\n",
    "$$\n",
    "\n",
    "Übersetzt nach Pyhton schreibt sich das als\n",
    "\n",
    "```Python\n",
    "if i % 2 == 0:\n",
    "```\n",
    "\n",
    "Für die Prüfung, ob das Resultat $0$ ist, wird dabei `==` verwendet.\n",
    "Dies rührt daher, dass das einfache gleichheitszeichen bereits als\n",
    "Operator für die Zuweisung eines Wertes zu einer Variabel besetzt war.\n",
    "\n",
    "Der Vollständige Code für die Abwechslungsweise Verwendung eines\n",
    "dunkelblauen bzw. eines hellblauen Blütenblattes sieht folgendermassen\n",
    "aus:\n",
    "\n",
    "```Python\n",
    "if i % 2 == 0:\n",
    "    blume = kombiniere(blume, bluetenblatt_dunkel)\n",
    "else:\n",
    "    blume = kombiniere(blume, bluetenblatt_hell)\n",
    "```\n",
    "\n",
    "Falls mehr als zwei Fälle unterschieden werden müssen, lautet die Python\n",
    "Syntax\n",
    "\n",
    "```Python\n",
    "if BEDINGUNG:\n",
    "    ANWEISUNG(en)\n",
    "elif BEDINGUNG:\n",
    "    ANWEISUNG(en)\n",
    "else:\n",
    "    ANWEISUNG(en)\n",
    "```\n",
    "\n",
    "Dabei können beliebig viele `elif` Bedingungen wiederholt werden.\n",
    "\n",
    "Als Bedingung kann nicht nur eine Gleichheit überprüft werden. Es ist\n",
    "auch möglich grösser `>`, grösser oder gleich `>=`, kleiner `<` und kleiner oder\n",
    "gleich `<=` zu prüfen."
   ]
  },
  {
   "cell_type": "markdown",
   "id": "8e5b7760",
   "metadata": {},
   "source": [
    "## Anwendungsübung zu Bedingungen in Python"
   ]
  },
  {
   "cell_type": "markdown",
   "id": "bd4e88d1",
   "metadata": {},
   "source": [
    "### Aufgabenstellung\n",
    "\n",
    "Zeichnen Sie die folgende Blume.\n",
    "\n",
    "![Blumenvorlage](dreifachblume.svg)\n",
    "\n",
    "Die erfoderlichen Importe und Farbdefinitionen finden Sie in der\n",
    "folgenden Code Zelle."
   ]
  },
  {
   "cell_type": "code",
   "execution_count": 1,
   "id": "62a471cf",
   "metadata": {},
   "outputs": [],
   "source": [
    "from pytamaro.de import *\n",
    "\n",
    "lavender = rgb_farbe(230, 230, 250)\n",
    "mediumpurple = rgb_farbe(147, 112, 219)\n",
    "darkorchid = rgb_farbe(153, 50, 204)\n",
    "indigo = rgb_farbe(75, 0, 130)"
   ]
  },
  {
   "cell_type": "code",
   "execution_count": null,
   "id": "87fec7fe",
   "metadata": {},
   "outputs": [],
   "source": [
    "# Hier ist Platz für Ihre Blume\n",
    "# Hinweis: die Verschiebung einer Farbe um eine Postion kann erreicht\n",
    "# werden, wenn i % 4 nicht 0 sondern eine Zahl ergibt. Bei % 4 können\n",
    "# dies die Zahlen 1, 2 oder 3 sein."
   ]
  },
  {
   "cell_type": "markdown",
   "id": "96b225f5",
   "metadata": {},
   "source": [
    "### Musterlösung"
   ]
  },
  {
   "cell_type": "code",
   "execution_count": 2,
   "id": "6e812f87",
   "metadata": {},
   "outputs": [
    {
     "data": {
      "image/png": "[encoded data removed]",
      "text/plain": [
       "<PIL.Image.Image image mode=RGBA size=300x300>"
      ]
     },
     "metadata": {},
     "output_type": "display_data"
    }
   ],
   "source": [
    "bluetenblatt_l = ellipse(30, 150, lavender)\n",
    "bluetenblatt_m = ellipse(30, 150, mediumpurple)\n",
    "bluetenblatt_d = ellipse(30, 150, darkorchid)\n",
    "scheibe_i = ellipse(25, 25, indigo)\n",
    "\n",
    "bluetenblatt_m_fix = fixiere(unten_mitte, bluetenblatt_m)\n",
    "bluetenblatt_l_fix = fixiere(unten_mitte, bluetenblatt_l)\n",
    "bluetenblatt_d_fix = fixiere(unten_mitte, bluetenblatt_d)\n",
    "\n",
    "blume3 = scheibe_i\n",
    "for i in range(24):  \n",
    "    \n",
    "    if i % 4 == 0:\n",
    "        bl_temp = drehe(i * 15, bluetenblatt_l_fix)\n",
    "        blume3 = kombiniere(blume3, bl_temp)\n",
    "    elif i % 4 == 2:\n",
    "        bd_temp = drehe(i * 15, bluetenblatt_d_fix)\n",
    "        blume3 = kombiniere(blume3, bd_temp)\n",
    "    else:\n",
    "        bm_temp = drehe(i * 15, bluetenblatt_m_fix)\n",
    "        blume3 = kombiniere(blume3, bm_temp)\n",
    "        \n",
    "zeige_grafik(blume3)"
   ]
  }
 ],
 "metadata": {
  "kernelspec": {
   "display_name": ".venv",
   "language": "python",
   "name": "python3"
  },
  "language_info": {
   "codemirror_mode": {
    "name": "ipython",
    "version": 3
   },
   "file_extension": ".py",
   "mimetype": "text/x-python",
   "name": "python",
   "nbconvert_exporter": "python",
   "pygments_lexer": "ipython3",
   "version": "3.13.5"
  }
 },
 "nbformat": 4,
 "nbformat_minor": 5
}
