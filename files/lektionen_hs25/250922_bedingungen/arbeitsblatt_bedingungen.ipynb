{
 "cells": [
  {
   "cell_type": "markdown",
   "id": "8e5b7760",
   "metadata": {},
   "source": [
    "# Arbeitsblatt zu Bedingungen in Python"
   ]
  },
  {
   "cell_type": "markdown",
   "id": "bd4e88d1",
   "metadata": {},
   "source": [
    "Zeichnen Sie die folgende Blume.\n",
    "\n",
    "![Blumenvorlage](dreifachblume.svg)\n",
    "\n",
    "Die erfoderlichen Importe und Farbdefinitionen finden Sie in der\n",
    "folgenden Code Zelle."
   ]
  },
  {
   "cell_type": "code",
   "execution_count": 1,
   "id": "62a471cf",
   "metadata": {},
   "outputs": [],
   "source": [
    "from pytamaro.de import *\n",
    "\n",
    "lavender = rgb_farbe(230, 230, 250)\n",
    "mediumpurple = rgb_farbe(147, 112, 219)\n",
    "darkorchid = rgb_farbe(153, 50, 204)\n",
    "indigo = rgb_farbe(75, 0, 130)"
   ]
  },
  {
   "cell_type": "code",
   "execution_count": null,
   "id": "87fec7fe",
   "metadata": {},
   "outputs": [],
   "source": [
    "# Hier ist Platz für Ihre Blume\n",
    "# Hinweis: die Verschiebung einer Farbe um eine Postion kann erreicht\n",
    "# werden, wenn i % 4 nicht 0 sondern eine Zahl ergibt. Bei % 4 können\n",
    "# dies die Zahlen 1, 2 oder 3 sein."
   ]
  }
 ],
 "metadata": {
  "kernelspec": {
   "display_name": ".venv",
   "language": "python",
   "name": "python3"
  },
  "language_info": {
   "codemirror_mode": {
    "name": "ipython",
    "version": 3
   },
   "file_extension": ".py",
   "mimetype": "text/x-python",
   "name": "python",
   "nbconvert_exporter": "python",
   "pygments_lexer": "ipython3",
   "version": "3.13.5"
  }
 },
 "nbformat": 4,
 "nbformat_minor": 5
}
