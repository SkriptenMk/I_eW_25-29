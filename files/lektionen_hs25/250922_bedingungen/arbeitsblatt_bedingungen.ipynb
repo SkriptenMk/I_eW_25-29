{
 "cells": [
  {
   "cell_type": "markdown",
   "id": "8e5b7760",
   "metadata": {},
   "source": [
    "# Arbeitsblatt zu Bedingungen in Python"
   ]
  },
  {
   "cell_type": "markdown",
   "id": "bd4e88d1",
   "metadata": {},
   "source": [
    "Zeichnen Sie die folgende Blume.\n",
    "\n",
    "![Blumenvorlage](dreifachblume.svg)\n",
    "\n",
    "Die erfoderlichen Importe und Farbdefinitionen finden Sie in der\n",
    "folgenden Code Zelle."
   ]
  },
  {
   "cell_type": "code",
   "execution_count": 1,
   "id": "62a471cf",
   "metadata": {},
   "outputs": [],
   "source": [
    "from pytamaro.de import *\n",
    "\n",
    "lavender = rgb_farbe(230, 230, 250)\n",
    "mediumpurple = rgb_farbe(147, 112, 219)\n",
    "darkorchid = rgb_farbe(153, 50, 204)\n",
    "indigo = rgb_farbe(75, 0, 130)"
   ]
  },
  {
   "cell_type": "code",
   "execution_count": null,
   "id": "87fec7fe",
   "metadata": {},
   "outputs": [],
   "source": [
    "# Hier ist Platz für Ihre Blume\n",
    "# Hinweis: die Verschiebung einer Farbe um eine Postion kann erreicht\n",
    "# werden, wenn i % 4 nicht 0 sondern eine Zahl ergibt. Bei % 4 können\n",
    "# dies die Zahlen 1, 2 oder 3 sein."
   ]
  },
  {
   "cell_type": "markdown",
   "id": "96b225f5",
   "metadata": {},
   "source": [
    "## Musterlösung"
   ]
  },
  {
   "cell_type": "code",
   "execution_count": null,
   "id": "6e812f87",
   "metadata": {},
   "outputs": [],
   "source": [
    "bluetenblatt_l = ellipse(30, 150, lavender)\n",
    "bluetenblatt_m = ellipse(30, 150, mediumpurple)\n",
    "bluetenblatt_d = ellipse(30, 150, darkorchid)\n",
    "scheibe_i = ellipse(25, 25, indigo)"
   ]
  },
  {
   "cell_type": "code",
   "execution_count": null,
   "id": "6d3de9e9",
   "metadata": {},
   "outputs": [],
   "source": [
    "bluetenblatt_m_fix = fixiere(unten_mitte, bluetenblatt_m)\n",
    "bluetenblatt_l_fix = fixiere(unten_mitte, bluetenblatt_l)\n",
    "bluetenblatt_d_fix = fixiere(unten_mitte, bluetenblatt_d)"
   ]
  },
  {
   "cell_type": "code",
   "execution_count": null,
   "id": "32e98f30",
   "metadata": {},
   "outputs": [],
   "source": [
    "blume3 = scheibe_i\n",
    "for i in range(24):  \n",
    "    \n",
    "    if i % 4 == 0:\n",
    "        bl_temp = drehe(i * 15, bluetenblatt_l_fix)\n",
    "        blume3 = kombiniere(blume3, bl_temp)\n",
    "    elif i % 4 == 2:\n",
    "        bd_temp = drehe(i * 15, bluetenblatt_d_fix)\n",
    "        blume3 = kombiniere(blume3, bd_temp)\n",
    "    else:\n",
    "        bm_temp = drehe(i * 15, bluetenblatt_m_fix)\n",
    "        blume3 = kombiniere(blume3, bm_temp)\n",
    "        \n",
    "zeige_grafik(blume3)"
   ]
  }
 ],
 "metadata": {
  "kernelspec": {
   "display_name": ".venv",
   "language": "python",
   "name": "python3"
  },
  "language_info": {
   "codemirror_mode": {
    "name": "ipython",
    "version": 3
   },
   "file_extension": ".py",
   "mimetype": "text/x-python",
   "name": "python",
   "nbconvert_exporter": "python",
   "pygments_lexer": "ipython3",
   "version": "3.13.5"
  }
 },
 "nbformat": 4,
 "nbformat_minor": 5
}
