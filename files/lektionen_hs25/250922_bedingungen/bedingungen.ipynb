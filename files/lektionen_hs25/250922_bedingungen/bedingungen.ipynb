{
 "cells": [
  {
   "cell_type": "markdown",
   "id": "fe53a085",
   "metadata": {},
   "source": [
    "# Programmverzweigungen (Bedingungen)"
   ]
  },
  {
   "cell_type": "markdown",
   "id": "0461852c",
   "metadata": {},
   "source": []
  }
 ],
 "metadata": {
  "language_info": {
   "name": "python"
  }
 },
 "nbformat": 4,
 "nbformat_minor": 5
}
