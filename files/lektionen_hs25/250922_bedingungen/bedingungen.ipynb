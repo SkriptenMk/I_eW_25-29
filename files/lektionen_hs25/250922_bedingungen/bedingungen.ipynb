{
 "cells": [
  {
   "cell_type": "markdown",
   "id": "fe53a085",
   "metadata": {},
   "source": [
    "# Programmverzweigungen (Bedingungen)"
   ]
  },
  {
   "cell_type": "markdown",
   "id": "0461852c",
   "metadata": {},
   "source": [
    "Es gibt Situationen, in denen es wünschenswert ist, dass ein Teil eines\n",
    "Programms nur ausgeführt wird, wenn eine bestimmte Voraussetzung erfüllt\n",
    "ist.  \n",
    "Als Beispiel dafür mag die Blume von vergangener Woche dienen. Wenn eine\n",
    "Blume gezeichnet werden soll, welche abwechslungsweise blaue und\n",
    "hellblaue Blütenblätter hat."
   ]
  },
  {
   "cell_type": "markdown",
   "id": "6a9b3b45",
   "metadata": {},
   "source": []
  }
 ],
 "metadata": {
  "language_info": {
   "name": "python"
  }
 },
 "nbformat": 4,
 "nbformat_minor": 5
}
