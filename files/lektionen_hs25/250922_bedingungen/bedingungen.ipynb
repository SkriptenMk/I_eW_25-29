{
 "cells": [
  {
   "cell_type": "markdown",
   "id": "fe53a085",
   "metadata": {},
   "source": [
    "# Programmverzweigungen (Bedingungen)"
   ]
  },
  {
   "cell_type": "markdown",
   "id": "0461852c",
   "metadata": {},
   "source": [
    "Es gibt Situationen, in denen es wünschenswert ist, dass ein Teil eines\n",
    "Programms nur ausgeführt wird, wenn eine bestimmte Voraussetzung erfüllt\n",
    "ist.  \n",
    "Als Beispiel dafür mag die Blume von vergangener Woche dienen. Wenn eine\n",
    "Blume gezeichnet werden soll, welche abwechslungsweise dunkelblaue und\n",
    "hellblaue Blütenblätter hat."
   ]
  },
  {
   "cell_type": "markdown",
   "id": "6a9b3b45",
   "metadata": {},
   "source": [
    "![Beispielblume](blumenbeispiel.svg)"
   ]
  },
  {
   "cell_type": "markdown",
   "id": "f127598d",
   "metadata": {},
   "source": [
    "Diese Blume wurde ebenfalls mit einer `for`-Schlaufe gezeichnet.\n",
    "Allerdings wurde abwechslungsweise ein dunkelblaues und ein hellblaues\n",
    "Blütenblatt verwendet.  \n",
    "Abwechslungsweise kann auch als wenn eine gerade Zahl kommt bzw. wenn\n",
    "eine ungerade Zahl kommt verstanden werden. Kommen beim Zählen doch\n",
    "abwechslungsweise gerade und ungerade Zahlen. Übersetzt in die\n",
    "`for i in range(12)`-Schlaufe heisst das, immer wenn der Wert in der\n",
    "Variabel `i` eine gerade Zahl ist dann soll ein dunkelblaues Blüentblatt\n",
    "verwendet werden und immer wenn der Wert der Variabel `i` eine ungerade\n",
    "Zahl ist, soll ein hellblaues Blütenblatt verwendet werden."
   ]
  },
  {
   "cell_type": "markdown",
   "id": "c6b1a1cd",
   "metadata": {},
   "source": []
  }
 ],
 "metadata": {
  "language_info": {
   "name": "python"
  }
 },
 "nbformat": 4,
 "nbformat_minor": 5
}
