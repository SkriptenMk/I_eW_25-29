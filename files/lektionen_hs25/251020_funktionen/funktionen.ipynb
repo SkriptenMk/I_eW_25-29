{
 "cells": [
  {
   "cell_type": "markdown",
   "id": "0d1524b1",
   "metadata": {},
   "source": [
    "# Programmieren einfacher Funktionen"
   ]
  },
  {
   "cell_type": "markdown",
   "id": "812a79e1",
   "metadata": {},
   "source": [
    "## Kreisfläche\n",
    "\n",
    "Die Fläche eines Kreises berechnet sich nach der Formel\n",
    "$$\n",
    "A = \\pi r^2\n",
    "$$\n",
    "wobei $A$ die Fläche $\\pi$ die Kreiszahl - hier mit zwei\n",
    "Nachkommastellen - 3.14 und $r$ den Radius des Kreises darstellt.\n",
    "\n",
    "*Aufgabenstellung*: Implementieren Sie eine Funktion `kreisflaeche()`\n",
    "welche ein Argument `r` für Radius entgegennimmt und die Fläche eines\n",
    "Kreises zurückgibt."
   ]
  },
  {
   "cell_type": "code",
   "execution_count": null,
   "id": "bb6c9d16",
   "metadata": {},
   "outputs": [],
   "source": [
    "def kreisflaeche(r: float) -> float:\n",
    "    \"\"\"\n",
    "    Berechnet die Fläche eines Kreises anhand des gegebenen Radius.\n",
    "\n",
    "    Parameter\n",
    "    ----------\n",
    "    r : float\n",
    "        Der Radius des Kreises.\n",
    "\n",
    "    Rückgabewert\n",
    "    ------------\n",
    "    float\n",
    "        Die Fläche des Kreises.\n",
    "    \"\"\"\n",
    "    PI = 3.14  # Näherungswert für die Kreiszahl Pi\n",
    "    a = PI * r ** 2  # Formel: Fläche = Pi * r^2\n",
    "    return a\n"
   ]
  }
 ],
 "metadata": {
  "kernelspec": {
   "display_name": ".venv",
   "language": "python",
   "name": "python3"
  },
  "language_info": {
   "codemirror_mode": {
    "name": "ipython",
    "version": 3
   },
   "file_extension": ".py",
   "mimetype": "text/x-python",
   "name": "python",
   "nbconvert_exporter": "python",
   "pygments_lexer": "ipython3",
   "version": "3.13.5"
  }
 },
 "nbformat": 4,
 "nbformat_minor": 5
}
