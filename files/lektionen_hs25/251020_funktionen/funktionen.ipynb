{
 "cells": [
  {
   "cell_type": "markdown",
   "id": "0d1524b1",
   "metadata": {},
   "source": [
    "# Programmieren einfacher Funktionen"
   ]
  },
  {
   "cell_type": "markdown",
   "id": "812a79e1",
   "metadata": {},
   "source": [
    "## Kreisfläche\n",
    "\n",
    "Die Fläche eines Kreises berechnet sich nach der Formel\n",
    "$$\n",
    "A = \\pi r^2\n",
    "$$\n",
    "wobei $A$ die Fläche $\\pi$ die Kreiszahl - hier mit zwei\n",
    "Nachkommastellen - 3.14 und $r$ den Radius des Kreises darstellt.\n",
    "\n",
    "*Aufgabenstellung*: Implementieren Sie eine Funktion `kreisflaeche()`\n",
    "welche ein Argument `r` für Radius entgegennimmt und die Fläche eines\n",
    "Kreises zurückgibt."
   ]
  },
  {
   "cell_type": "code",
   "execution_count": null,
   "id": "bb6c9d16",
   "metadata": {},
   "outputs": [],
   "source": [
    "def kreisflaeche(r: float) -> float:\n",
    "    \"\"\"\n",
    "    Berechnet die Fläche eines Kreises anhand des gegebenen Radius.\n",
    "\n",
    "    Parameter\n",
    "    ----------\n",
    "    r : float\n",
    "        Der Radius des Kreises.\n",
    "\n",
    "    Rückgabewert\n",
    "    ------------\n",
    "    float\n",
    "        Die Fläche des Kreises.\n",
    "    \"\"\"\n",
    "    PI = 3.14  # Näherungswert für die Kreiszahl Pi\n",
    "    a = PI * r ** 2  # Formel: Fläche = Pi * r^2\n",
    "    return a\n"
   ]
  },
  {
   "cell_type": "markdown",
   "id": "21cf666d",
   "metadata": {},
   "source": [
    "# Quotient\n",
    "\n",
    "Ein Quotient kann unterschiedlich dargestellt werden. Eine Möglichkeit\n",
    "ist die Darstellung als Dezimalzahl.\n",
    "\n",
    "*Aufgabenstellung*: Implementieren Sie eine Funktion `quotient()` welche\n",
    "zwei Dezimalzahlen als Argumente entgegennimmt und den Quotienten als\n",
    "Dezimalzahl zurückgibt. Sehen Sie für den Sonderfall der Division durch\n",
    "Null eine Lösung vor."
   ]
  },
  {
   "cell_type": "code",
   "execution_count": null,
   "id": "cd071a54",
   "metadata": {},
   "outputs": [],
   "source": [
    "def quotient(z: float, n: float) -> float:\n",
    "    \"\"\"\n",
    "    Berechnet den Quotienten zweier Zahlen.\n",
    "\n",
    "    Gibt eine Fehlermeldung zurück, falls der Nenner null ist.\n",
    "\n",
    "    Parameter\n",
    "    ----------\n",
    "    z : float\n",
    "        Der Zähler der Division.\n",
    "    n : float\n",
    "        Der Nenner der Division.\n",
    "\n",
    "    Rückgabewert\n",
    "    ------------\n",
    "    float oder str\n",
    "        Der berechnete Quotient oder eine Fehlermeldung als Zeichenkette,\n",
    "        falls eine Division durch Null versucht wurde.\n",
    "    \"\"\"\n",
    "    fehlermeldung = \"Eine Division durch Null ist unzulässig.\"  # Fehlermeldung für Division durch Null\n",
    "    if n == 0:\n",
    "        return fehlermeldung  # Fehlerfall: Division durch Null\n",
    "    else:\n",
    "        q = z / n  # Berechnung des Quotienten\n",
    "        return q\n"
   ]
  },
  {
   "cell_type": "code",
   "execution_count": null,
   "id": "78610807",
   "metadata": {},
   "outputs": [],
   "source": []
  }
 ],
 "metadata": {
  "kernelspec": {
   "display_name": ".venv",
   "language": "python",
   "name": "python3"
  },
  "language_info": {
   "codemirror_mode": {
    "name": "ipython",
    "version": 3
   },
   "file_extension": ".py",
   "mimetype": "text/x-python",
   "name": "python",
   "nbconvert_exporter": "python",
   "pygments_lexer": "ipython3",
   "version": "3.13.5"
  }
 },
 "nbformat": 4,
 "nbformat_minor": 5
}
