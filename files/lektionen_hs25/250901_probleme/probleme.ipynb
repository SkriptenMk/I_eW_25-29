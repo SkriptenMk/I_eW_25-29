{
 "cells": [
  {
   "cell_type": "markdown",
   "id": "674bdb8e",
   "metadata": {},
   "source": [
    "# Problemlösung in der Informatik"
   ]
  },
  {
   "cell_type": "markdown",
   "id": "540a1c7c",
   "metadata": {},
   "source": [
    "[Link für den Download dieses Notebooks](/lektionen_hs25/250901_probleme/probleme.ipynb)"
   ]
  }
 ],
 "metadata": {
  "language_info": {
   "name": "python"
  }
 },
 "nbformat": 4,
 "nbformat_minor": 5
}
