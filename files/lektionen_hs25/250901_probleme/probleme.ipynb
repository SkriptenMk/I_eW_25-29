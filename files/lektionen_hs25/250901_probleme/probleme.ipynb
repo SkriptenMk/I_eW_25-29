{
 "cells": [
  {
   "cell_type": "markdown",
   "id": "540a1c7c",
   "metadata": {},
   "source": [
    "#| when: format == \"html\"  \n",
    "<a target=\"_blank\" href=\"https://colab.research.google.com/github/SkriptenMk/I_eW_25-29/blob/main/files/lektionen_hs25/250901_probleme/probleme.ipynb\">\n",
    "  <img src=\"https://colab.research.google.com/assets/colab-badge.svg\" alt=\"Open In Colab\"/>\n",
    "</a>"
   ]
  },
  {
   "cell_type": "markdown",
   "id": "5c66abc3",
   "metadata": {},
   "source": [
    "# *Vorbemerkung*\n",
    "\n",
    "Damit Sie dieses Jupyter Notebook lokal (das heisst, auf Ihrem Computer)\n",
    "verwenden können, klicken Sie auf den Button \n",
    "![Open In Colab](colab-badge.svg). Es\n",
    "öffnet sich dann das Jupyter Notebook in Google Colab. Dort können Sie\n",
    "unter dem Menü Datei > Herunterladen > .ipynb herunterladen auswählen.\n",
    "Mit dieser Auswahl öffnet sich der Download Dialog und Sie können das\n",
    "Jupyter Notebook am gewünschen Ort speichern."
   ]
  },
  {
   "cell_type": "markdown",
   "id": "aef2ca3b",
   "metadata": {},
   "source": [
    "# Ausgangslage"
   ]
  },
  {
   "cell_type": "markdown",
   "id": "9a080fb2",
   "metadata": {},
   "source": [
    "Jede Disziplin hat ihre eigene Art, Probleme zu lösen. Das ist in der\n",
    "Informatik nicht anders.  \n",
    "In der Informatik versucht man, grosse Probleme in kleinere Teilprobleme\n",
    "zu zerlegen. Das macht man so lange, bis die Teilprobleme so klein sind,\n",
    "dass sie einfach zu lösen sind."
   ]
  },
  {
   "cell_type": "markdown",
   "id": "2acf7b67",
   "metadata": {},
   "source": [
    "Dies soll hier anhand von verschidenen Grafiken gezigt werden."
   ]
  },
  {
   "cell_type": "markdown",
   "id": "52a8c088",
   "metadata": {},
   "source": [
    "Damit in Python einfach mit Grafiken gearbeitet werden kann, wird das\n",
    "Paket `PyTamaro` verwendet. Dieses Paket wurde von der Università della\n",
    "Svizzera italiana (USI) extra für die Informatik-Ausbildung entwickelt.\n",
    "\n",
    "Damit das Paket verwendet werden kann, muss es zuerst in der aktuellen\n",
    "Python Virtual Environment installiert werden.  \n",
    "Dazu öffnen Sie ein Terminal im Ordner, in dem sich dieses Jupyter\n",
    "Notebook befindet. Anschliessend starten Sie die Python Virtual\n",
    "Environment mit dem Befehl:\n",
    "\n",
    "```bash\n",
    ".venv\\Scripts\\activate\n",
    "```\n",
    "\n",
    "Danach können Sie `PyTamaro` mit dem Befehl\n",
    "\n",
    "```bash\n",
    "pip install pytamaro\n",
    "```\n",
    "\n",
    "installieren."
   ]
  },
  {
   "cell_type": "markdown",
   "id": "8e95f9f7",
   "metadata": {},
   "source": [
    "Um das Paket zu verwenden, muss es *importiert* werden. Die genauen\n",
    "Zusammenhänge müssen im Moment nicht bekannt sein. Wichtig ist\n",
    "lediglich, dass die folgende Zelle ausgeführt wird."
   ]
  },
  {
   "cell_type": "code",
   "execution_count": 1,
   "id": "6cdc9c1e",
   "metadata": {},
   "outputs": [],
   "source": [
    "from pytamaro.de import (\n",
    "    rechteck, kreis_sektor,\n",
    "    blau, rot, weiss, schwarz,\n",
    "    neben, ueber, ueberlagere,\n",
    "    drehe, kombiniere,\n",
    "    zeige_grafik, speichere_grafik,\n",
    ")"
   ]
  },
  {
   "cell_type": "markdown",
   "id": "70a8ea42",
   "metadata": {},
   "source": [
    "## Beispiel: Tricolore"
   ]
  },
  {
   "cell_type": "markdown",
   "id": "a1ea6170",
   "metadata": {},
   "source": [
    "Die Vorgehensweise wird anhand der Französischen Nationalflagge\n",
    "(Tricolore) gezigt.\n"
   ]
  },
  {
   "cell_type": "markdown",
   "id": "8c84d65a",
   "metadata": {},
   "source": [
    "<img alt=\"Tricolore Française\" src=\"data:image/png;base64,iVBORw0KGgoAAAANSUhEUgAAAfQAAAFOCAYAAABwh++ZAAABhGlDQ1BJQ0MgcHJvZmlsZQAAKJF9kT1Iw0AcxV9TpSpVETuIOGSoTnZREcdSxSJYKG2FVh1MLv2CJg1Jiouj4Fpw8GOx6uDirKuDqyAIfoC4C06KLlLi/5JCixgPjvvx7t7j7h0gNCpMNbuigKpZRioeE7O5VTHwigAG0IshhCVm6on0Ygae4+sePr7eRXiW97k/R7+SNxngE4mjTDcs4g3i2U1L57xPHGIlSSE+J5406ILEj1yXXX7jXHRY4JkhI5OaJw4Ri8UOljuYlQyVeIY4rKga5QtZlxXOW5zVSo217slfGMxrK2mu0xxDHEtIIAkRMmooowILEVo1UkykaD/m4R91/ElyyeQqg5FjAVWokBw/+B/87tYsTE+5ScEY0P1i2x/jQGAXaNZt+/vYtpsngP8ZuNLa/moDmPskvd7WwkfA4DZwcd3W5D3gcgcYedIlQ3IkP02hUADez+ibcsDwLdC35vbW2sfpA5ChrpZvgINDYKJI2ese7+7p7O3fM63+fgCPnHKyfESENAAAAAlwSFlzAAAuIwAALiMBeKU/dgAAAAd0SU1FB+kHDgkZGCjdQQgAAAAZdEVYdENvbW1lbnQAQ3JlYXRlZCB3aXRoIEdJTVBXgQ4XAAAEj0lEQVR42u3VoQ3CUBRA0f9JTcfA4PCVdV2gCzBBBbJbdANsqypImAWDxEACAUnSrvESzhnhmpvTrl0SBNM2VZqGoxCEczt06TVfhCCcjQQAYOgAgKEDAIYOABg6ABg6AGDoAIChAwCGDgCGDgAYOgBg6ACAoQOAoQMAhg4AGDoAYOgAYOgAgKEDAIYOABg6ABg6AGDoAIChAwCGDgCGDgAYOgBg6ACAoQOAoQMAhg4AGDoAYOgAYOgAgKEDAIYOABg6ABg6AGDoAIChAwCGDgCGDgAYOgBg6ACAoQMAhg4Ahg4AGDoAYOgAgKEDgKEDAIYOABg6AGDoAGDoAIChAwCGDgAYOgAYOgBg6ACAoQMAhg4Ahg4AGDoAYOgAgKEDgKEDAIYOABg6AGDoAGDoAIChAwCGDgAYOgAYOgBg6ACAoQMAhg4Ahg4AGDoAYOgAgKEDgKEDAIYOABg6AGDoAGDoEgCAoQMAhg4AGDoAYOgAYOgAgKEDAIYOABg6ABg6AGDoAIChAwCGDgCGDgAYOgBg6ACAoQOAoQMAhg4AGDoAYOgAYOgAgKEDAIYOABg6ABg6AGDoAIChAwCGDgCGDgAYOgBg6ACAoQOAoQMAhg4AGDoAYOgAYOgAgKEDAIYOABg6ABg6AGDoAIChAwCGDgAYOgAYOgBg6ACAoQMAhg4Ahg4AGDoAYOgAgKEDgKEDAIYOABg6AGDoAGDoAIChAwCGDgAYOgAYOgBg6ACAoQMAhg4Ahg4AGDoAYOgAgKEDgKEDAIYOABg6AGDoAGDoAIChAwCGDgAYOgAYOgBg6ACAoQMAhg4Ahg4AGDoAYOgAgKEDgKFLAACGDgAYOgBg6ACAoQOAoQMAhg4AGDoAYOgAYOgAgKEDAIYOABg6ABg6AGDoAIChAwCGDgCGDgAYOgBg6ACAoQOAoQMAhg4AGDoAYOgAYOgAgKEDAIYOABg6ABg6AGDoAIChAwCGDgCGDgAYOgBg6ACAoQOAoQMAhg4AGDoAYOgAYOgAgKEDAIYOABg6AGDoAGDoAIChAwCGDgAYOgAYOgBg6ACAoQMAhg4Ahg4AGDoAYOgAgKEDgKEDAIYOABg6AGDoAGDoAIChAwCGDgAYOgAYOgBg6ACAoQMAhg4Ahg4AGDoAYOgAgKEDgKEDAIYOABg6AGDoAGDoAIChAwCGDgAYOgAYOgBg6ACAoQMAhg4Ahi4BABg6AGDoAIChAwCGDgCGDgAYOgBg6ACAoQOAoQMAhg4AGDoAYOgAYOgAgKEDAIYOABg6ABg6AGDoAIChAwCGDgCGDgAYOgBg6ACAoQOAoQMAhg4AGDoAYOgAYOgAgKEDAIYOABg6ABg6AGDoAIChAwCGDgCGDgAYOgBg6ACAoQOAoQMAhg4AGDoAYOgAgKEDgKEDAIYOABg6AGDoAGDoAIChAwCGDgAYOgAYOgBg6ACAoQMAhg4Ahg4AGDoAYOgAgKEDgKEDAIYOABg6AGDoAGDoAIChAwCGDgAYOgAYOgBg6ACAoQMAhg4Af6bo6/1ZBqLZlsvncRrvShDN7/295pyfShDNCnv2FiSunGGIAAAAAElFTkSuQmCC\" />"
   ]
  },
  {
   "cell_type": "markdown",
   "id": "9a17fac1",
   "metadata": {},
   "source": [
    "Um die Zeichnung der Tricolore zu planen, wird die Grafik in ihre\n",
    "Einzelteile zerlegt.  \n",
    "Die Tricolore besteht aus drei gleich grossen Rechtecken in den Farben\n",
    "blau, rot und weiss. Diese Rechtecke werden nebeneinander angeordnet.\n",
    "\n",
    "Das bedeutet, dass die Länge und die Breite der Rechtecke definiert\n",
    "werden muss und basierend auf diesen Werten die drei Rechtecke\n",
    "gezeichnet werden. Anschliessend werden die drei Rechtecke nebeneinander\n",
    "angeordnet. \n",
    "\n",
    "Der Befehl zum Zeichnen eines Rechtecks lautet\n",
    "\n",
    "```python\n",
    "name = rechteck(länge, breite, farbe)\n",
    "```\n",
    "\n",
    "Bevor die Zeichnung tatsächlich erstellt wird, soll hier der Befehl im\n",
    "Detail erklärt werden:\n",
    "\n",
    "* `name` ist der Name, unter dem das Rechteck gespeichert wird. Dieser\n",
    "  Name kann später verwendet werden, um auf das Rechteck zuzugreifen.\n",
    "* `rechteck` ist der Befehl, der ein Rechteck zeichnet. In der Klammer\n",
    "  hinter dem Befehl werden die sogenannten *Argumente* angegeben. Diese\n",
    "  steuern, wie das Rechteck aussieht.\n",
    "* `länge` und `breite` sind die Argumente, die die Grösse des Rechtecks\n",
    "  bestimmen. Diese Werte können beliebig gewählt werden.\n",
    "* `farbe` ist das Argument, das die Farbe des Rechtecks bestimmt.\n",
    "  Aufgrund der Eigenheiten von `PyTamaro` können ausschliesslich die\n",
    "  Farben verwendet werden, welche importiert worden sind."
   ]
  },
  {
   "cell_type": "markdown",
   "id": "56b866c2",
   "metadata": {},
   "source": [
    "### Rechtecke zeichnen"
   ]
  },
  {
   "cell_type": "markdown",
   "id": "59ccc529",
   "metadata": {},
   "source": [
    "Als erstes wird hier gezeigt, wie das blaue Rechteck gezeichnetwird.\n",
    "\n",
    "Damit das Resultat kontrolliert werden kann, wird die Grafik mit dem\n",
    "Befehl \n",
    "```python\n",
    "zeige_grafik(name)\n",
    "```\n",
    "angezeigt."
   ]
  },
  {
   "cell_type": "code",
   "execution_count": 4,
   "id": "ee5030b7",
   "metadata": {},
   "outputs": [
    {
     "data": {
      "image/png": "[encoded data removed]",
      "text/plain": [
       "<PIL.Image.Image image mode=RGBA size=50x100>"
      ]
     },
     "metadata": {},
     "output_type": "display_data"
    }
   ],
   "source": [
    "bleu = rechteck(50, 100, blau)\n",
    "zeige_grafik(bleu)"
   ]
  },
  {
   "cell_type": "markdown",
   "id": "0dec5a58",
   "metadata": {},
   "source": [
    "Nachdem das blaue Rechteck gezeichnet wurde, kann das weisse und das\n",
    "rote Rechteck analog gezeichnet und angzeigt werden."
   ]
  },
  {
   "cell_type": "code",
   "execution_count": 6,
   "id": "a15d7abe",
   "metadata": {},
   "outputs": [],
   "source": [
    "# TODO: Rechtecke blanc und rouge zeichnen -> Schreiben Sie hier Ihren\n",
    "# Code\n",
    "blanc = rechteck(50, 100, weiss)\n",
    "rouge = rechteck(50, 100, rot)"
   ]
  },
  {
   "cell_type": "markdown",
   "id": "df668a41",
   "metadata": {},
   "source": [
    "Als nächstes werden die drei Rechtecke nebeninander angeordnet.\n",
    "Dazu wird der Befehl `neben` verwendet. Dieser Befehl nimmt zwei\n",
    "Argumente entgegen: das erste Rechteck und das zweite Rechteck.\n",
    "Das erste Rechteck wird links vom zweiten Rechteck gezeichnet.\n",
    "\n",
    "```python\n",
    "resultat = neben(linke grafik, rechte grafik)\n",
    "```"
   ]
  },
  {
   "cell_type": "code",
   "execution_count": 7,
   "id": "d5ca5bf6",
   "metadata": {},
   "outputs": [
    {
     "data": {
      "image/png": "[encoded data removed]",
      "text/plain": [
       "<PIL.Image.Image image mode=RGBA size=100x100>"
      ]
     },
     "metadata": {},
     "output_type": "display_data"
    }
   ],
   "source": [
    "zwei_drittel = neben(bleu, blanc)\n",
    "zeige_grafik(zwei_drittel)"
   ]
  },
  {
   "cell_type": "markdown",
   "id": "9a34814e",
   "metadata": {},
   "source": [
    "Analog können Sie nun das rote Rechteck rechts der zwei Drittel\n",
    "anordnen. Nennen Sie das Resultat `tricolore` und zeigen Sie es an."
   ]
  },
  {
   "cell_type": "code",
   "execution_count": 8,
   "id": "3f7e42ac",
   "metadata": {},
   "outputs": [],
   "source": [
    "# TODO: Trcolore zusammenfügen -> Schreiben Sie hier Ihren\n",
    "# Code"
   ]
  },
  {
   "cell_type": "markdown",
   "id": "eadfb31b",
   "metadata": {},
   "source": [
    "## Beispiel: Österreichische Flagge"
   ]
  },
  {
   "cell_type": "markdown",
   "id": "58646d07",
   "metadata": {},
   "source": [
    "Zeichnen Sie die Österreichische Flagge. Das Seitenverhältnis der\n",
    "Flagge ist 2:3."
   ]
  },
  {
   "cell_type": "markdown",
   "id": "2b318c7f",
   "metadata": {},
   "source": [
    "<img alt=\"Flagge der Republik Österreich (Seitenverhältnis 2:3)\" src=\"data:image/png;base64,iVBORw0KGgoAAAANSUhEUgAAAfQAAAFOBAMAAACCqfKqAAAABGdBTUEAALGPC/xhBQAAACBjSFJNAAB6JgAAgIQAAPoAAACA6AAAdTAAAOpgAAA6mAAAF3CculE8AAAAD1BMVEXJDy3IEC755un////URV29L2aoAAAAAXRSTlNVW+d9HQAAAAFiS0dEAxEMTPIAAAAHdElNRQfoBg4WOCkU2kqJAAABb0lEQVR42u3d0RQAIAAEwVNIIYUU8mfq1VcON2swBJtRW9DR0dHR0dHR0dHR0dHR0dHR0dHR0dHR0dHR0dHR0dHR0dHR0dHR0dHR0dHR0dHR0dHR0dHR0dHR0dHR0dHR0dHR0dHR0dHR0dHR0dHR0dHR0dHR0dHR0dHR0dHR0dHR0dHR0dHR0dHR0dHRL33WllUbOjo6Ojo6Ojo6Ojo6Ojo6Ojo6Ojo6Ojo6Ojo6Ojo6Ojo6Ojo6Ojo6Ojo6Ojo6Ojo6Ojo6Ojo6Ojo6Ojo6Ojo6Ojo6Ojo6Ojo6Ojo6Ojo6Ojo6Ojo6Ojo6Ojo6Ojo6Ojo6Ojo6Ojo6Ojo6+k/ftbn4oaOjo6Ojo6Ojo6Ojo6Ojo6Ojo6Ojo6Ojo6Ojo6Ojo6Ojo6Ojo6Ojo6Ojo6Ojo6Ojo6Ojo6Ojo6Ojo6Ojo6Ojo6Ojo6Ojo6Ojo6Ojo6Ojo6Ojo6Ojo6Ojo6Ojo6Ojo6Ojo6Ojo6Ojo6Ojoz96bwfn3yEvmenB3QAAACV0RVh0ZGF0ZTpjcmVhdGUAMjAyNC0wNi0xNFQyMjo1Njo0MCswMDowMOdH2jwAAAAldEVYdGRhdGU6bW9kaWZ5ADIwMjQtMDYtMTRUMjI6NTY6NDArMDA6MDCWGmKAAAAAAElFTkSuQmCC\" />"
   ]
  },
  {
   "cell_type": "markdown",
   "id": "3cdbc2e8",
   "metadata": {},
   "source": [
    "\n",
    "Um Elemente übereinander\n",
    "anzuordnen, wird der Befehl `ueber` verwendet. Die Syntax dieses Befehls\n",
    "lautet:\n",
    "```python\n",
    "resultat = ueber(obere grafik, untere grafik)\n",
    "```"
   ]
  },
  {
   "cell_type": "code",
   "execution_count": 9,
   "id": "7c96506a",
   "metadata": {},
   "outputs": [],
   "source": [
    "# TODO: Östereichische Flagge zeichnen -> Schreiben Sie hier Ihren\n",
    "# Code"
   ]
  },
  {
   "cell_type": "markdown",
   "id": "7f58b8b7",
   "metadata": {},
   "source": [
    "## Beispiel: Schweizerfahne\n",
    "\n",
    "Zeichnen Sie eine korrekt propotionierte Schweizerfahne. Die Dimensionen\n",
    "können Sie der folgenden Grafik entnehmen:\n"
   ]
  },
  {
   "cell_type": "markdown",
   "id": "dad34aaa",
   "metadata": {},
   "source": [
    "<img alt=\"Schweizerfahne gemäss Anhang 2 des Wappenschutzgesetzes\" src=\"data:image/png;base64,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\" />"
   ]
  },
  {
   "cell_type": "markdown",
   "id": "4ce5429a",
   "metadata": {},
   "source": [
    "\n",
    "Verwenden Sie dazu die Befehle `rechteck`, \n",
    "<a\n",
    "href=\"https://pytamaro.readthedocs.io/en/stable/German/operations.html#pytamaro.de.operations.drehe\"\n",
    "target=\"_blank\">`drehe`</a> und\n",
    "<a\n",
    "href=\"https://pytamaro.readthedocs.io/en/stable/German/operations.html#pytamaro.de.operations.ueberlagere\" target=\"_blank\">`ueberlagere`</a>. "
   ]
  },
  {
   "cell_type": "code",
   "execution_count": 10,
   "id": "256f9777",
   "metadata": {},
   "outputs": [],
   "source": [
    "# TODO: Schweizerfahne zeichnen -> Schreiben Sie hier Ihren\n",
    "# Code"
   ]
  },
  {
   "cell_type": "markdown",
   "id": "8478f519",
   "metadata": {},
   "source": [
    "## Beispiel: Tessiner Wappen\n",
    "\n",
    "Als Referenz an die USI zeichnen Sie als letztes Beispiel das Tessiner\n",
    "Wappen.\n"
   ]
  },
  {
   "cell_type": "markdown",
   "id": "090fcc96",
   "metadata": {},
   "source": [
    "<img alt=\"Tessiner Wappen\" src=\"data:image/png;base64,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\" />"
   ]
  },
  {
   "cell_type": "markdown",
   "id": "497e1fe6",
   "metadata": {},
   "source": [
    "\n",
    "Verwenden Sie dazu neben den bereits bekannten Befehlen zusätzlich die\n",
    "Befehle\n",
    "<a\n",
    "href=\"https://pytamaro.readthedocs.io/en/stable/German/operations.html#pytamaro.de.operations.ueber\" target=\"_blank\">`ueber`</a> und\n",
    "<a\n",
    "href=\"https://pytamaro.readthedocs.io/en/stable/German/primitives.html#pytamaro.de.primitives.kreis_sektor\" target=\"_blank\">`kreis_sektor`</a>."
   ]
  },
  {
   "cell_type": "code",
   "execution_count": 11,
   "id": "cd8e47ce",
   "metadata": {},
   "outputs": [],
   "source": [
    "# TODO: Tessiner Wappen zeichnen -> Schreiben Sie hier Ihren\n",
    "# Code"
   ]
  }
 ],
 "metadata": {
  "kernelspec": {
   "display_name": ".venv",
   "language": "python",
   "name": "python3"
  },
  "language_info": {
   "codemirror_mode": {
    "name": "ipython",
    "version": 3
   },
   "file_extension": ".py",
   "mimetype": "text/x-python",
   "name": "python",
   "nbconvert_exporter": "python",
   "pygments_lexer": "ipython3",
   "version": "3.13.5"
  }
 },
 "nbformat": 4,
 "nbformat_minor": 5
}
