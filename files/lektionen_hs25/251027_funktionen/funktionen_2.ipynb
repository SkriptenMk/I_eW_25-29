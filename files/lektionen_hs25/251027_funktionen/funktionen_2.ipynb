{
 "cells": [
  {
   "cell_type": "markdown",
   "id": "2e648330",
   "metadata": {},
   "source": [
    "# Prüfungsvorbereitung"
   ]
  },
  {
   "cell_type": "markdown",
   "id": "9e80b8e4",
   "metadata": {},
   "source": [
    "## Belegung von Variabeln"
   ]
  },
  {
   "cell_type": "markdown",
   "id": "b87d69d2",
   "metadata": {},
   "source": [
    "Das folgende Code Snippet demonstriert die Belegung von Variabeln.\n",
    "Insbesondere soll es auch zeigen, was geschieht, wenn die Variabeln in\n",
    "Operationen einbezogen werden.\n",
    "\n",
    "Überlegen Sie sich bevor Sie das Snippet ausführen zuerst Anweisung für\n",
    "Anweisung, welche Werte in den Variabeln $a$, $b$ und $c$ nach Ausführung\n",
    "der jeweiligen Anweisung gespeichert sind. Notieren Sie sich die Werte auf ein\n",
    "Blatt Papier. Anschliessend führen Sie die Zelle zur Kontrolle Ihrer\n",
    "Überlegungen aus."
   ]
  },
  {
   "cell_type": "code",
   "execution_count": null,
   "id": "285141ab",
   "metadata": {},
   "outputs": [],
   "source": [
    "# Anfangswerte zuweisen\n",
    "a = 5\n",
    "b = 10\n",
    "c = a\n",
    "print(f\"Nach Initialisierung:, a = {a}, b = {b}, c = {c}\")\n",
    "\n",
    "# Wert von a ändern\n",
    "a = a + 3\n",
    "print(f\"Nach a = a + 3: a = {a},  b = {b},  c = {c}\")\n",
    "\n",
    "# Wert von b ändern\n",
    "b = a * c\n",
    "print(f\"Nach b = a * c: a = {a},  b = {b},  c = {c}\")\n",
    "\n",
    "# Wert von c ändern\n",
    "c = b - a\n",
    "print(f\"Nach c = b - a: a = {a},  b = {b},  c = {c}\")\n"
   ]
  },
  {
   "cell_type": "markdown",
   "id": "44d26f3c",
   "metadata": {},
   "source": [
    "## Funktionen"
   ]
  },
  {
   "cell_type": "markdown",
   "id": "530a53b4",
   "metadata": {},
   "source": [
    "Die Definiton einer neuen Funktion erweitert den Umfang der in Python\n",
    "zur Verfügung stehenden Befehle. Entsprechend ist es möglich, einmal\n",
    "definierte Funktionen in neuen Funktionen zu verwenden.\n",
    "\n",
    "Unten finden Sie ein einfaches Beispiel für diese Vorgehensweise."
   ]
  },
  {
   "cell_type": "code",
   "execution_count": null,
   "id": "581b09d9",
   "metadata": {},
   "outputs": [],
   "source": [
    "def erfolgsberechnung(ertrag: float, aufwand: float) -> float:\n",
    "    \"\"\"Berechnet den wirtschaftlichen Erfolg als Differenz von Ertrag und Aufwand.\n",
    "\n",
    "    Args:\n",
    "        ertrag: Der gesamte erzielte Ertrag.\n",
    "        aufwand: Der gesamte angefallene Aufwand.\n",
    "\n",
    "    Returns:\n",
    "        Der berechnete Erfolg (Ertrag minus Aufwand).\n",
    "    \"\"\"\n",
    "    erfolg = ertrag - aufwand\n",
    "    return erfolg\n",
    "\n",
    "\n",
    "def renditeberechnung(ertrag: float, aufwand: float, anfangskapital: float, schlusskapital: float) -> float:\n",
    "    \"\"\"Berechnet die Rendite in Prozent basierend auf Erfolg und durchschnittlichem Kapital.\n",
    "\n",
    "    Die Funktion nutzt die 'erfolgsberechnung', um den Erfolg zu ermitteln, und setzt diesen\n",
    "    ins Verhältnis zum durchschnittlich gebundenen Kapital.\n",
    "\n",
    "    Args:\n",
    "        ertrag: Der gesamte erzielte Ertrag.\n",
    "        aufwand: Der gesamte angefallene Aufwand.\n",
    "        anfangskapital: Das Kapital zu Beginn der Periode.\n",
    "        schlusskapital: Das Kapital am Ende der Periode.\n",
    "\n",
    "    Returns:\n",
    "        Die berechnete Rendite, ausgedrückt in Prozent (%).\n",
    "    \"\"\"\n",
    "    erfolg = erfolgsberechnung(ertrag, aufwand)\n",
    "    durchschnittskapital = (anfangskapital + schlusskapital) / 2\n",
    "    rendite = erfolg / durchschnittskapital * 100\n",
    "    return rendite"
   ]
  }
 ],
 "metadata": {
  "kernelspec": {
   "display_name": ".venv",
   "language": "python",
   "name": "python3"
  },
  "language_info": {
   "codemirror_mode": {
    "name": "ipython",
    "version": 3
   },
   "file_extension": ".py",
   "mimetype": "text/x-python",
   "name": "python",
   "nbconvert_exporter": "python",
   "pygments_lexer": "ipython3",
   "version": "3.13.5"
  }
 },
 "nbformat": 4,
 "nbformat_minor": 5
}
