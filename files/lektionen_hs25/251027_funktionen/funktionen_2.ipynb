{
 "cells": [
  {
   "cell_type": "markdown",
   "id": "2e648330",
   "metadata": {},
   "source": [
    "# Funktionen"
   ]
  },
  {
   "cell_type": "markdown",
   "id": "9e80b8e4",
   "metadata": {},
   "source": []
  }
 ],
 "metadata": {
  "language_info": {
   "name": "python"
  }
 },
 "nbformat": 4,
 "nbformat_minor": 5
}
