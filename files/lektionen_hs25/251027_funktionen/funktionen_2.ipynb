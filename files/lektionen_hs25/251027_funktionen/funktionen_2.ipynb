{
 "cells": [
  {
   "cell_type": "markdown",
   "id": "2e648330",
   "metadata": {},
   "source": [
    "# Prüfungsvorbereitung"
   ]
  },
  {
   "cell_type": "markdown",
   "id": "9e80b8e4",
   "metadata": {},
   "source": [
    "## Belegung von Variabeln"
   ]
  },
  {
   "cell_type": "markdown",
   "id": "b87d69d2",
   "metadata": {},
   "source": [
    "Das folgende Code Snippet demonstriert die Belegung von Variabeln.\n",
    "Insbesondere soll es auch zeigen, was geschieht, wenn die Variabeln in\n",
    "Operationen einbezogen werden.\n",
    "\n",
    "Überlegen Sie sich bevor Sie das Snippet ausführen zuerst Anweisung für\n",
    "Anweisung, welche Werte in den Variabeln $a$, $b$ und $c$ nach Ausführung\n",
    "der jeweiligen Anweisung gespeichert sind. Notieren Sie sich die Werte auf ein\n",
    "Blatt Papier. Anschliessend führen Sie die Zelle zur Kontrolle Ihrer\n",
    "Überlegungen aus."
   ]
  },
  {
   "cell_type": "code",
   "execution_count": null,
   "id": "285141ab",
   "metadata": {},
   "outputs": [],
   "source": [
    "# Anfangswerte zuweisen\n",
    "a = 5\n",
    "b = 10\n",
    "c = a\n",
    "print(f\"Nach Initialisierung:, a = {a}, b = {b}, c = {c}\")\n",
    "\n",
    "# Wert von a ändern\n",
    "a = a + 3\n",
    "print(f\"Nach a = a + 3: a = {a},  b = {b},  c = {c}\")\n",
    "\n",
    "# Wert von b ändern\n",
    "b = a * c\n",
    "print(f\"Nach b = a * c: a = {a},  b = {b},  c = {c}\")\n",
    "\n",
    "# Wert von c ändern\n",
    "c = b - a\n",
    "print(f\"Nach c = b - a: a = {a},  b = {b},  c = {c}\")\n"
   ]
  },
  {
   "cell_type": "code",
   "execution_count": null,
   "id": "44d26f3c",
   "metadata": {},
   "outputs": [],
   "source": []
  }
 ],
 "metadata": {
  "kernelspec": {
   "display_name": ".venv",
   "language": "python",
   "name": "python3"
  },
  "language_info": {
   "codemirror_mode": {
    "name": "ipython",
    "version": 3
   },
   "file_extension": ".py",
   "mimetype": "text/x-python",
   "name": "python",
   "nbconvert_exporter": "python",
   "pygments_lexer": "ipython3",
   "version": "3.13.5"
  }
 },
 "nbformat": 4,
 "nbformat_minor": 5
}
