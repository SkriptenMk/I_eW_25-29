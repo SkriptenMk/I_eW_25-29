{
 "cells": [
  {
   "cell_type": "raw",
   "id": "2394596d",
   "metadata": {
    "vscode": {
     "languageId": "raw"
    }
   },
   "source": [
    "---\n",
    "title: \"Wiederholungen in Python (Übung)\"\n",
    "---"
   ]
  },
  {
   "cell_type": "markdown",
   "id": "82c6a885",
   "metadata": {},
   "source": [
    "In diesem Arbeitsblatt bauen Sie eine Blume mit Python for-loops und\n",
    "PyTamaro.\n",
    "\n",
    "In der folgenden Zelle werden zuerst \n",
    "[alle von PyTamaro zur Verfügung gestellten\n",
    "Funktionen](https://pytamaro.readthedocs.io/en/stable/German/index.html)\n",
    "importiert."
   ]
  },
  {
   "cell_type": "code",
   "execution_count": 2,
   "id": "80b7b99a",
   "metadata": {},
   "outputs": [],
   "source": [
    "from pytamaro.de import *"
   ]
  },
  {
   "cell_type": "markdown",
   "id": "4186300d",
   "metadata": {},
   "source": [
    "Das Ziel ist es, eine Blume wie die abgebildete zu zeichnen.\n",
    "\n",
    "![Blume](blume_komplett.svg)"
   ]
  },
  {
   "cell_type": "markdown",
   "id": "a08a76ec",
   "metadata": {},
   "source": [
    "Die wichtigsten Funktionen von PyTamaro für diese Aufgabe sind\n",
    "`fixiere()` und `kombiniere()`.\n",
    "\n",
    "Die Funktion `fixiere()` legt für eine Grafik einen frei gewählten\n",
    "Ankerpunkt fest. Dazu muss man wissen, dass jede in PyTamaro gezichnete\n",
    "Grafik von einer sogenannten \"Bounding Box\" umgeben ist. Diese\n",
    "Bounding Box ist ein Rechteck, das die Grafik vollständig umschliesst.\n",
    "Standardmässig liegt der Ankerpunkt einer Grafik in der Mitte der\n",
    "Bounding Box. Mit `fixiere()` kann man den Ankerpunkt jedoch an eine andere\n",
    "Stelle der Bounding Box verschieben. PyTamaro stellt die folgenden\n",
    "Positionen für Ankerpunkte zur Verfügung:\n",
    "\n",
    "* `mitte`: Mitte der Bounding Box (Standard)\n",
    "* `mitte_links`: Mitte der linken Seite der Bounding Box\n",
    "* `mitte_rechts`: Mitte der rechten Seite der Bounding Box\n",
    "* `oben_links`: Obere linke Ecke der Bounding Box\n",
    "* `oben_mitte`: Mitte der oberen Seite der Bounding Box\n",
    "* `oben_rechts`: Obere rechte Ecke der Bounding Box\n",
    "* `unten_links`: Untere linke Ecke der Bounding Box\n",
    "* `unten_mitte`: Mitte der unteren Seite der Bounding Box\n",
    "* `unten_rechts`: Obere rechte Ecke der Bounding Box\n",
    "\n",
    "Der Ankerpunkt wird mit dem Befehl `fixiere(position, grafik)` gesetzt.\n",
    "\n",
    "Der Ankerpunkt ist wichtig für die Funktion `drehe()`, die eine Grafik um\n",
    "einen bestimmten Winkel dreht. Die Drehung erfolgt immer um den\n",
    "Ankerpunkt.\n",
    "\n",
    "Die Funktion `kombiniere(vordere Grafik, hintere Grafik)` fügt zwei\n",
    "Grafiken zusammen. Die erste \n",
    "gegebene Grafik liegt im Vordergrund und die zweite \n",
    "im Hintergrund. Die Grafiken werden so ausgerichtet, dass ihre\n",
    "Ankerpunkte übereinanderliegen."
   ]
  },
  {
   "cell_type": "markdown",
   "id": "030118ad",
   "metadata": {},
   "source": [
    "## Schritt 1: Zerlege das Bild in seine Einzelteile\n",
    "\n",
    "Die Blume besteht im wesentlichen aus zwei Formen:\n",
    "\n",
    "1. Blütenblätter in Form von Ellipsen sowie\n",
    "2. einer Scheibe in der Form eines Kreises in der Mitte.\n",
    "\n",
    "Um die Blume zu zeichnen, müssen diese beiden Formen zuerst einzeln\n",
    "erstellt werden."
   ]
  },
  {
   "cell_type": "code",
   "execution_count": null,
   "id": "8a8f2e5b",
   "metadata": {},
   "outputs": [
    {
     "data": {
      "image/png": "[encoded data removed]",
      "text/plain": [
       "<PIL.Image.Image image mode=RGBA size=50x150>"
      ]
     },
     "metadata": {},
     "output_type": "display_data"
    }
   ],
   "source": [
    "bluetenblatt = ellipse(50, 150, blau)\n",
    "# die Farbe blau wurde gewhält, damit das Blatt vor dem Hintergrund\n",
    "# sichtbar ist\n",
    "\n",
    "zeige_grafik(bluetenblatt)"
   ]
  },
  {
   "cell_type": "code",
   "execution_count": null,
   "id": "eb1cf07b",
   "metadata": {},
   "outputs": [
    {
     "data": {
      "image/png": "[encoded data removed]",
      "text/plain": [
       "<PIL.Image.Image image mode=RGBA size=30x30>"
      ]
     },
     "metadata": {},
     "output_type": "display_data"
    }
   ],
   "source": [
    "scheibe = ellipse(30, 30, rot)\n",
    "zeige_grafik(scheibe)"
   ]
  },
  {
   "cell_type": "markdown",
   "id": "72eb7944",
   "metadata": {},
   "source": [
    "## Schritt 2: Positioniere die Blütenblätter\n",
    "\n",
    "Die Blütenblätter sind rund um die Mitte der Blume angeordnet. Da es\n",
    "zwölf Blütenblätter sind, beträgt der Winkel zwischen zwei Blütenblättern\n",
    "$\\frac{360°}{12} = 30°$. Die Drehung der Blütenblätter erfolgt um den\n",
    "Ankerpunkt `unten_mitte` der Blütenblätter.  \n",
    "Die Blütenblätter müssen also zuerst fixiert und dann gedreht werden."
   ]
  },
  {
   "cell_type": "code",
   "execution_count": null,
   "id": "0e3febf1",
   "metadata": {},
   "outputs": [
    {
     "data": {
      "image/png": "[encoded data removed]",
      "text/plain": [
       "<PIL.Image.Image image mode=RGBA size=87x132>"
      ]
     },
     "metadata": {},
     "output_type": "display_data"
    }
   ],
   "source": [
    "bluetenblatt_fixiert = fixiere(unten_mitte, bluetenblatt)\n",
    "bluetenblatt_30 = drehe(30, bluetenblatt_fixiert)\n",
    "zeige_grafik(bluetenblatt_30)"
   ]
  },
  {
   "cell_type": "markdown",
   "id": "b29926da",
   "metadata": {},
   "source": [
    "## Schritt 3: Zeichnen aller erforderlichen Blütenblätter\n",
    "\n",
    "Die Blume hat zwölf Blütenblätter. Diese können von Hand jedes einzelne\n",
    "erstellt werden. Das dritte Blütenblatt ist um 60° gedreht und wird\n",
    "entsprechend mit\n",
    "\n",
    "```python\n",
    "bluetenblatt_60 = drehe(60, bluetenblatt_fixiert)\n",
    "```\n",
    "erstllt. Das kann man für alle zwölf Blütenblätter machen bis man beim zwölften\n",
    "Blütenblatt angekommen ist, das um 330° gedreht ist.\n",
    "\n",
    "```python\n",
    "bluetenblatt_330 = drehe(330, bluetenblatt_fixiert)\n",
    "```\n",
    "Das ist aber sehr mühsam und fehleranfällig. Viel einfacher ist es, eine Schlaufe\n",
    "(`for`-loop) zu verwenden, die die Blütenblätter basierend auf der\n",
    "Grundform automatisch erstellt."
   ]
  },
  {
   "cell_type": "code",
   "execution_count": null,
   "id": "4c528d26",
   "metadata": {},
   "outputs": [
    {
     "data": {
      "image/png": "[encoded data removed]",
      "text/plain": [
       "<PIL.Image.Image image mode=RGBA size=87x132>"
      ]
     },
     "metadata": {},
     "output_type": "display_data"
    }
   ],
   "source": [
    "for i in range(12):\n",
    "    winkel = i * 30\n",
    "    bluetenblatt_gedreht = drehe(winkel, bluetenblatt_fixiert)\n",
    "\n",
    "zeige_grafik(bluetenblatt_gedreht)"
   ]
  },
  {
   "cell_type": "markdown",
   "id": "3f6db4ec",
   "metadata": {},
   "source": [
    "Diese Schlaufe durchläuft die Zahlen von 0 bis 11 (also 12 Zahlen) und\n",
    "berechnet für jede Zahl den entsprechenden Drehwinkel. Dann wird das\n",
    "Blütenblatt um diesen Winkel gedreht. Allerdings wird das gedrehte\n",
    "Blütenblatt in jeder Iteration der Schlaufe in der gleichen Variable\n",
    "`bluetenblatt_gedreht` gespeichert. Am Ende der Schlaufe enthält diese\n",
    "Variable nur das letzte gedrehte Blütenblatt (das um 330° gedrehte\n",
    "Blütenblatt)."
   ]
  },
  {
   "cell_type": "markdown",
   "id": "d4173029",
   "metadata": {},
   "source": [
    "## Schritt 4: Kombiniere alle Blütenblätter\n",
    "\n",
    "Um das unerwünschte Verhalten zu vermeiden, dass am Ende der Schlaufe nur\n",
    "das letzte gedrehte Blütenblatt in der Variable `bluetenblatt_gedreht`\n",
    "enthalten ist, müssen die gedrehten Blütenblätter in jeder Iteration der\n",
    "gewünschten Gesamtgrafik hinzugefügt werden. Dazu wird die Funktion\n",
    "`kombiniere()` verwendet."
   ]
  },
  {
   "cell_type": "code",
   "execution_count": null,
   "id": "1e33310c",
   "metadata": {},
   "outputs": [
    {
     "data": {
      "image/png": "[encoded data removed]",
      "text/plain": [
       "<PIL.Image.Image image mode=RGBA size=300x300>"
      ]
     },
     "metadata": {},
     "output_type": "display_data"
    }
   ],
   "source": [
    "blume = bluetenblatt_fixiert\n",
    "\n",
    "for i in range(12):\n",
    "    winkel = i * 30\n",
    "    bluetenblatt_gedreht = drehe(winkel, bluetenblatt_fixiert)\n",
    "    blume = kombiniere(blume, bluetenblatt_gedreht)\n",
    "    \n",
    "zeige_grafik(blume)"
   ]
  },
  {
   "cell_type": "markdown",
   "id": "0fe98ffc",
   "metadata": {},
   "source": [
    "Damit sind die Blütenblätter in der gewünschten Position und Anzahl\n",
    "zusammengefügt. Damit Sie allerdings aussehen, wie die Blume in der\n",
    "Vorlage, müssen die einzelnen Blütenblätter weiss eingefärbt und mit\n",
    "einem rosa Rand versehen werden.\n",
    "\n",
    "Rosa ist keine vordefinierte Farbe in PyTamaro. Sie können jedoch eine\n",
    "beliebige Farbe mit der Funktion `rgb_farbe(rot, gruen, blau)`\n",
    "erstellen. Dabei sind `rot`, `gruen` und `blau` Zahlenwerte von 0 bis 255, die\n",
    "den Anteil der jeweiligen Farbe an der Gesamtfarbe angeben. Damit nicht\n",
    "alle Kombinationen durchprobiert werden müssen, können Sie mit einem\n",
    "Online-Tool wie [RGB Color\n",
    "Picker](https://www.w3schools.com/colors/colors_rgb.asp) \n",
    "die gewünschte Farbe auswählen und die entsprechenden Werte für rot,\n",
    "grün und blau ablesen. "
   ]
  },
  {
   "cell_type": "code",
   "execution_count": null,
   "id": "cca200f2",
   "metadata": {},
   "outputs": [
    {
     "data": {
      "image/png": "[encoded data removed]",
      "text/plain": [
       "<PIL.Image.Image image mode=RGBA size=55x155>"
      ]
     },
     "metadata": {},
     "output_type": "display_data"
    }
   ],
   "source": [
    "weisses_blatt = ellipse(50, 150, weiss)\n",
    "rosa_rand = ellipse(55, 155, rgb_farbe(255, 0, 102))\n",
    "\n",
    "bluetenblatt_mit_rand = ueberlagere(weisses_blatt, rosa_rand)\n",
    "\n",
    "zeige_grafik(bluetenblatt_mit_rand)"
   ]
  },
  {
   "cell_type": "markdown",
   "id": "1177b7ba",
   "metadata": {},
   "source": [
    "Anschliessend können die Blütenblätter mit Rand in der vorher\n",
    "geschriebenen Schlaufe zur Gesamtgrafik zusammengefügt werden."
   ]
  },
  {
   "cell_type": "code",
   "execution_count": null,
   "id": "e50f8d98",
   "metadata": {},
   "outputs": [
    {
     "data": {
      "image/png": "[encoded data removed]",
      "text/plain": [
       "<PIL.Image.Image image mode=RGBA size=310x310>"
      ]
     },
     "metadata": {},
     "output_type": "display_data"
    }
   ],
   "source": [
    "bluetenblatt_mit_rand_fixiert = fixiere(unten_mitte, bluetenblatt_mit_rand)\n",
    "\n",
    "blume_weiss = bluetenblatt_mit_rand_fixiert\n",
    "\n",
    "for i in range(12):\n",
    "    winkel = i * 30\n",
    "    bluetenblatt_gedreht = drehe(winkel, bluetenblatt_mit_rand_fixiert)\n",
    "    blume_weiss = kombiniere(blume_weiss, bluetenblatt_gedreht)\n",
    "    \n",
    "zeige_grafik(blume_weiss)"
   ]
  },
  {
   "cell_type": "markdown",
   "id": "7d092cbe",
   "metadata": {},
   "source": [
    "## Schritt 5: Scheibe im Zentrum der Blume\n",
    "\n",
    "Bei genauer Betrachtung der Blume fällt auf, dass die Scheibe in der\n",
    "Mitte der Blume nicht einfach einfarbig gelb ist, sondern gegen die Mitte\n",
    "hin einen Farbverlauf aufweist. Diesen Farbverlauf wird erzeugt, indem\n",
    "mehrere Kreise mit kleiner werdendem Radius und abnehmender Farbintensität\n",
    "übereinandergelegt werden."
   ]
  },
  {
   "cell_type": "code",
   "execution_count": null,
   "id": "7aee95f8",
   "metadata": {},
   "outputs": [
    {
     "data": {
      "image/png": "[encoded data removed]",
      "text/plain": [
       "<PIL.Image.Image image mode=RGBA size=30x30>"
      ]
     },
     "metadata": {},
     "output_type": "display_data"
    }
   ],
   "source": [
    "scheibe = ellipse(30, 30, rgb_farbe(255, 0, 0))\n",
    "\n",
    "for i in range(1, 8):\n",
    "    tmp = ellipse(30 - 3*i, 30 - 3*i, rgb_farbe(255, i*26, i*26))\n",
    "    scheibe = ueberlagere(tmp, scheibe)\n",
    "    \n",
    "zeige_grafik(scheibe)"
   ]
  },
  {
   "cell_type": "markdown",
   "id": "053cf3bd",
   "metadata": {},
   "source": [
    "Zum Schluss wird die Scheibe auf die Blütenblätter gelegt und Blume so\n",
    "vervollständigt."
   ]
  },
  {
   "cell_type": "code",
   "execution_count": 16,
   "id": "4fa961f4",
   "metadata": {},
   "outputs": [
    {
     "data": {
      "image/png": "[encoded data removed]",
      "text/plain": [
       "<PIL.Image.Image image mode=RGBA size=310x310>"
      ]
     },
     "metadata": {},
     "output_type": "display_data"
    }
   ],
   "source": [
    "blume_komplett = ueberlagere(scheibe, blume_weiss)\n",
    "zeige_grafik(blume_komplett)"
   ]
  }
 ],
 "metadata": {
  "kernelspec": {
   "display_name": ".venv",
   "language": "python",
   "name": "python3"
  },
  "language_info": {
   "codemirror_mode": {
    "name": "ipython",
    "version": 3
   },
   "file_extension": ".py",
   "mimetype": "text/x-python",
   "name": "python",
   "nbconvert_exporter": "python",
   "pygments_lexer": "ipython3",
   "version": "3.13.5"
  }
 },
 "nbformat": 4,
 "nbformat_minor": 5
}
