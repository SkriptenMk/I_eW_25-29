{
 "cells": [
  {
   "cell_type": "markdown",
   "id": "fe53a085",
   "metadata": {},
   "source": [
    "# Programmverzweigungen (Bedingungen)"
   ]
  },
  {
   "cell_type": "markdown",
   "id": "0461852c",
   "metadata": {},
   "source": [
    "Es gibt Situationen, in denen es wünschenswert ist, dass ein Teil eines\n",
    "Programms nur ausgeführt wird, wenn eine bestimmte Voraussetzung erfüllt\n",
    "ist.  \n",
    "Als Beispiel dafür mag die Blume von vergangener Woche dienen. Wenn eine\n",
    "Blume gezeichnet werden soll, welche abwechslungsweise dunkelblaue und\n",
    "hellblaue Blütenblätter hat."
   ]
  },
  {
   "cell_type": "markdown",
   "id": "6a9b3b45",
   "metadata": {},
   "source": [
    "![Beispielblume](blumenbeispiel.svg)"
   ]
  },
  {
   "cell_type": "markdown",
   "id": "f127598d",
   "metadata": {},
   "source": [
    "Diese Blume wurde ebenfalls mit einer `for`-Schlaufe gezeichnet.\n",
    "Allerdings wurde abwechslungsweise ein dunkelblaues und ein hellblaues\n",
    "Blütenblatt verwendet.  \n",
    "Abwechslungsweise kann auch als wenn eine gerade Zahl kommt bzw. wenn\n",
    "eine ungerade Zahl kommt verstanden werden. Kommen beim Zählen doch\n",
    "abwechslungsweise gerade und ungerade Zahlen. Übersetzt in die\n",
    "`for i in range(12)`-Schlaufe heisst das, immer wenn der Wert in der\n",
    "Variabel `i` eine gerade Zahl ist dann soll ein dunkelblaues Blüentblatt\n",
    "verwendet werden und immer wenn der Wert der Variabel `i` eine ungerade\n",
    "Zahl ist, soll ein hellblaues Blütenblatt verwendet werden."
   ]
  },
  {
   "cell_type": "markdown",
   "id": "c6b1a1cd",
   "metadata": {},
   "source": [
    "In Python verwendet man dazu die folgende Syntax:\n",
    "\n",
    "```Python\n",
    "if BEDINGUNG:\n",
    "    ANWEISUNG(en)\n",
    "else:\n",
    "    ANWEISUNG(en)\n",
    "```"
   ]
  },
  {
   "cell_type": "markdown",
   "id": "c08d911e",
   "metadata": {},
   "source": [
    "Das heisst, immer wenn die `BEDINGUNG` erfüllt ist (wenn sie `wahr`)\n",
    "ist, werden die eingerückten Anweisungen ausgeführt. In allen anderen\n",
    "Fällen werden die nach `else:` eingerückten Anweisungen ausgeführt."
   ]
  },
  {
   "cell_type": "markdown",
   "id": "2cbacbf2",
   "metadata": {},
   "source": [
    "Für die Zeichnung der Blume bedeutet das also, dass immer wenn `i` eine\n",
    "gerade Zahl ist, soll ein dunkelblaues Blütenblatt verwendet werden.\n",
    "Eine gerade Zahl ist dabei jede Zahl, die ohne Rest durch zwei Teilbar\n",
    "ist.  \n",
    "Ob dies der Fall ist, kann mit dem Modulo Operator (`%`) getestet werden\n",
    "(vgl. Abschnitt \n",
    "<a\n",
    "href=\"https://skriptenmk.github.io/I_eW_25-29/files/lektionen_hs25/250908_variablen/Variablen.html#vorbemerkungen-python-als-rechner\"\n",
    "target=\"_blank\">\n",
    "Vorbemerkungen: Python als Rechner</a>.) Eine Zahl ist ohne Rest durch\n",
    "zwei Teilbar, wenn gilt\n",
    "\n",
    "$$\n",
    "i\\ mod\\ 2 = 0\n",
    "$$\n",
    "\n",
    "Übersetzt nach Pyhton schreibt sich das als\n",
    "\n",
    "```Python\n",
    "if i % 2 == 0:\n",
    "```\n",
    "\n",
    "Für die Prüfung, ob das Resultat $0$ ist, wird dabei `==` verwendet.\n",
    "Dies rührt daher, dass das einfache gleichheitszeichen bereits als\n",
    "Operator für die Zuweisung eines Wertes zu einer Variabel besetzt war."
   ]
  },
  {
   "cell_type": "markdown",
   "id": "2f5a4397",
   "metadata": {},
   "source": [
    "Der Vollständige Code für die Abwechslungsweise Verwendung eines\n",
    "dunkelblauen bzw. eines hellblauen Blütenblattes sieht folgendermassen\n",
    "aus:\n",
    "\n",
    "```Python\n",
    "if i % 2 == 0:\n",
    "    blume = kombiniere(blume, bluetenblatt_dunkel)\n",
    "else:\n",
    "    blume = kombiniere(blume, bluetenblatt_hell)\n",
    "```"
   ]
  },
  {
   "cell_type": "markdown",
   "id": "4eec1a8f",
   "metadata": {},
   "source": [
    "Falls mehr als zwei Fälle unterschieden werden müssen, lautet die Python\n",
    "Syntax\n",
    "\n",
    "```Python\n",
    "if BEDINGUNG:\n",
    "    ANWEISUNG(en)\n",
    "elif BEDINGUNG:\n",
    "    ANWEISUNG(en)\n",
    "else:\n",
    "    ANWEISUNG(en)\n",
    "```\n",
    "\n",
    "Dabei können beliebig viele `elif` Bedingungen wiederholt werden."
   ]
  },
  {
   "cell_type": "markdown",
   "id": "f9f75048",
   "metadata": {},
   "source": [
    "Als Bedingung kann nicht nur eine Gleichheit überprüft werden. Es ist\n",
    "auch möglich grösser `>`, grösser oder gleich `>=`, kleiner `<` und kleiner oder\n",
    "gleich `<=` zu prüfen."
   ]
  }
 ],
 "metadata": {
  "language_info": {
   "name": "python"
  }
 },
 "nbformat": 4,
 "nbformat_minor": 5
}
