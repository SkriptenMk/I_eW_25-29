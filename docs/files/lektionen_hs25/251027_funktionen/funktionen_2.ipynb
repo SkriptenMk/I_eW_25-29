{
 "cells": [
  {
   "cell_type": "markdown",
   "id": "2e648330",
   "metadata": {},
   "source": [
    "# Prüfungsvorbereitung"
   ]
  },
  {
   "cell_type": "markdown",
   "id": "cde9e01b",
   "metadata": {},
   "source": [
    "<a target=\"_blank\" href=\"https://colab.research.google.com/github/SkriptenMk/I_eW_25-29/blob/main/files/lektionen_hs25/251027_funktionen/funktionen_2.ipynb\">\n",
    "  <img src=\"https://colab.research.google.com/assets/colab-badge.svg\" alt=\"Open In Colab\"/>\n",
    "</a>"
   ]
  },
  {
   "cell_type": "markdown",
   "id": "3ea7e910",
   "metadata": {},
   "source": [
    "## Belegung von Variabeln"
   ]
  },
  {
   "cell_type": "markdown",
   "id": "b87d69d2",
   "metadata": {},
   "source": [
    "Das folgende Code Snippet demonstriert die Belegung von Variabeln.\n",
    "Insbesondere soll es auch zeigen, was geschieht, wenn die Variabeln in\n",
    "Operationen einbezogen werden.\n",
    "\n",
    "Überlegen Sie sich bevor Sie das Snippet ausführen zuerst Anweisung für\n",
    "Anweisung, welche Werte in den Variabeln $a$, $b$ und $c$ nach Ausführung\n",
    "der jeweiligen Anweisung gespeichert sind. Notieren Sie sich die Werte auf ein\n",
    "Blatt Papier. Anschliessend führen Sie die Zelle zur Kontrolle Ihrer\n",
    "Überlegungen aus."
   ]
  },
  {
   "cell_type": "code",
   "execution_count": null,
   "id": "285141ab",
   "metadata": {},
   "outputs": [],
   "source": [
    "# Anfangswerte zuweisen\n",
    "a = 5\n",
    "b = 10\n",
    "c = a\n",
    "print(f\"Nach Initialisierung:, a = {a}, b = {b}, c = {c}\")\n",
    "\n",
    "# Wert von a ändern\n",
    "a = a + 3\n",
    "print(f\"Nach a = a + 3: a = {a},  b = {b},  c = {c}\")\n",
    "\n",
    "# Wert von b ändern\n",
    "b = a * c\n",
    "print(f\"Nach b = a * c: a = {a},  b = {b},  c = {c}\")\n",
    "\n",
    "# Wert von c ändern\n",
    "c = b - a\n",
    "print(f\"Nach c = b - a: a = {a},  b = {b},  c = {c}\")\n"
   ]
  },
  {
   "cell_type": "markdown",
   "id": "44d26f3c",
   "metadata": {},
   "source": [
    "## Funktionen"
   ]
  },
  {
   "cell_type": "markdown",
   "id": "530a53b4",
   "metadata": {},
   "source": [
    "Die Definiton einer neuen Funktion erweitert den Umfang der in Python\n",
    "zur Verfügung stehenden Befehle. Entsprechend ist es möglich, einmal\n",
    "definierte Funktionen in neuen Funktionen zu verwenden.\n",
    "\n",
    "Unten finden Sie ein einfaches Beispiel für diese Vorgehensweise."
   ]
  },
  {
   "cell_type": "code",
   "execution_count": null,
   "id": "581b09d9",
   "metadata": {},
   "outputs": [],
   "source": [
    "def erfolgsberechnung(ertrag: float, aufwand: float) -> float:\n",
    "    \"\"\"Berechnet den wirtschaftlichen Erfolg als Differenz von Ertrag\n",
    "    und Aufwand. \n",
    "\n",
    "    Args:\n",
    "        ertrag: Der gesamte erzielte Ertrag.\n",
    "        aufwand: Der gesamte angefallene Aufwand.\n",
    "\n",
    "    Returns:\n",
    "        Der berechnete Erfolg (Ertrag minus Aufwand).\n",
    "    \"\"\"\n",
    "    erfolg = ertrag - aufwand\n",
    "    return erfolg\n",
    "\n",
    "\n",
    "def renditeberechnung(ertrag: float, aufwand: float, \n",
    "                      anfangskapital: float, \n",
    "                      schlusskapital: float) -> float:\n",
    "    \"\"\"Berechnet die Rendite in Prozent basierend auf Erfolg \n",
    "    und durchschnittlichem Kapital.\n",
    "\n",
    "    Die Funktion nutzt die 'erfolgsberechnung', um den Erfolg \n",
    "    zu ermitteln, und setzt diesen ins Verhältnis zum durchschnittlich\n",
    "    gebundenen Kapital.\n",
    "\n",
    "    Args:\n",
    "        ertrag: Der gesamte erzielte Ertrag.\n",
    "        aufwand: Der gesamte angefallene Aufwand.\n",
    "        anfangskapital: Das Kapital zu Beginn der Periode.\n",
    "        schlusskapital: Das Kapital am Ende der Periode.\n",
    "\n",
    "    Returns:\n",
    "        Die berechnete Rendite, ausgedrückt in Prozent (%).\n",
    "    \"\"\"\n",
    "    erfolg = erfolgsberechnung(ertrag, aufwand)\n",
    "    durchschnittskapital = (anfangskapital + schlusskapital) / 2\n",
    "    rendite = erfolg / durchschnittskapital * 100\n",
    "    return rendite"
   ]
  },
  {
   "cell_type": "markdown",
   "id": "bd16755b",
   "metadata": {},
   "source": [
    "### Berechnung des Volumens eines Zylinders\n",
    "\n",
    "Die folgende Grafik zeigt einen Zylinder.\n",
    "\n",
    "![Zylinder](Zylinder.svg)\n",
    "\n",
    "Die Formel für die Berechnung des Volumens lautet\n",
    "\n",
    "$$\n",
    "v = \\pi \\cdot r^2 \\cdot h\n",
    "$$\n",
    "\n",
    "Zerlegen Sie dazu die Berechnung in zwei Teile. Definieren Sie zuerst\n",
    "eine Funkiton für die Berechnung der Bodenfläche und verwenden Sie diese\n",
    "anschliessend in einer Funktion zur Berechnung des Volumens.\n",
    "\n",
    "Für die Kreiszahl $\\pi$ können Sie das Modul `math` importieren. Dies\n",
    "stellt Ihnen mit dem Befehl `math.pi` $\\pi$ in einer grossen genauigkeit\n",
    "zur Verfügung."
   ]
  },
  {
   "cell_type": "code",
   "execution_count": null,
   "id": "e01f6464",
   "metadata": {},
   "outputs": [],
   "source": [
    "# TODO: implementieren Sie hier Ihre Funktionen"
   ]
  },
  {
   "cell_type": "markdown",
   "id": "db6a2eef",
   "metadata": {},
   "source": [
    "### Berechnung der kinetischen Energie eines Körpers\n",
    "\n",
    "Die kinetische Energie eines Körpers berechnet sich nach der Formel\n",
    "\n",
    "$$\n",
    "E_{kin} = \\frac{1}{2} \\cdot m \\cdot v^2\n",
    "$$\n",
    "\n",
    "wobei $m$ für die Masse des Körpers und $v$ für dessen Geschwindigkeit\n",
    "steht. Implementieren Sie eine Funktion für die Berechnung der\n",
    "kinetischen Energie eines Körpers. Beachten Sie dabei, dass\n",
    "experimentell lediglich Daten über die Masse des Körpers, die\n",
    "zurückgelegte Strecke des Körpers sowie die dafür erforderliche Zeit\n",
    "zugänglich sind."
   ]
  },
  {
   "cell_type": "code",
   "execution_count": null,
   "id": "f72f346f",
   "metadata": {},
   "outputs": [],
   "source": [
    "# TODO: implementieren Sie hier Ihre Funktionen"
   ]
  },
  {
   "cell_type": "markdown",
   "id": "0dcc92bb",
   "metadata": {},
   "source": [
    "## Musterlösungen"
   ]
  },
  {
   "cell_type": "markdown",
   "id": "27653dac",
   "metadata": {},
   "source": [
    "### Berechnung des Volumnens eines Zylinders"
   ]
  },
  {
   "cell_type": "code",
   "execution_count": null,
   "id": "24b852bd",
   "metadata": {},
   "outputs": [],
   "source": [
    "import math\n",
    "\n",
    "def kreisflaeche(r : float) -> float:\n",
    "    area = math.pi * r ** 2\n",
    "    return area\n",
    "\n",
    "def zylindervolumen(r : float, h : float) -> float:\n",
    "    bodenflaeche = kreisflaeche(r)\n",
    "    volumen = bodenflaeche * h\n",
    "    return volumen"
   ]
  },
  {
   "cell_type": "markdown",
   "id": "a6ab9fa7",
   "metadata": {},
   "source": [
    "### Berechnung der kinetischen Energie eines Körpers"
   ]
  },
  {
   "cell_type": "code",
   "execution_count": null,
   "id": "be316ca2",
   "metadata": {},
   "outputs": [],
   "source": [
    "def geschwindigkeit(s: float, t: float) -> float:\n",
    "    \"\"\"Berechnet die Geschwindigkeit v aus zurückgelegter Strecke und\n",
    "    Zeit. \n",
    "\n",
    "    Args:\n",
    "        s: Die zurückgelegte Strecke (in Metern).\n",
    "        t: Die dafür benötigte Zeit (in Sekunden).\n",
    "\n",
    "    Returns:\n",
    "        Die berechnete Geschwindigkeit v (in m/s).\n",
    "    \"\"\"\n",
    "    v = s / t\n",
    "    return v\n",
    "\n",
    "\n",
    "def kinetische_energie(m: float, s: float, t: float) -> float:\n",
    "    \"\"\"Berechnet die kinetische Energie eines Körpers basierend auf\n",
    "    experimentellen Daten. \n",
    "\n",
    "    Die Funktion berechnet zuerst die Geschwindigkeit v aus s und t\n",
    "    mithilfe der Funktion 'geschwindigkeit' und wendet dann die Formel\n",
    "    E_kin = 0.5 * m * v^2 an.\n",
    "\n",
    "    Args:\n",
    "        m: Die Masse des Körpers (in Kilogramm).\n",
    "        s: Die zurückgelegte Strecke (in Metern).\n",
    "        t: Die dafür benötigte Zeit (in Sekunden).\n",
    "\n",
    "    Returns:\n",
    "        Die berechnete kinetische Energie E_kin (in Joule).\n",
    "    \"\"\"\n",
    "    v = geschwindigkeit(s, t)\n",
    "    e_kin = (m * v ** 2) / 2\n",
    "    return e_kin"
   ]
  }
 ],
 "metadata": {
  "kernelspec": {
   "display_name": ".venv",
   "language": "python",
   "name": "python3"
  },
  "language_info": {
   "codemirror_mode": {
    "name": "ipython",
    "version": 3
   },
   "file_extension": ".py",
   "mimetype": "text/x-python",
   "name": "python",
   "nbconvert_exporter": "python",
   "pygments_lexer": "ipython3",
   "version": "3.13.5"
  }
 },
 "nbformat": 4,
 "nbformat_minor": 5
}
